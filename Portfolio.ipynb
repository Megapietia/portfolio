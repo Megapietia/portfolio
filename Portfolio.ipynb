{
  "nbformat": 4,
  "nbformat_minor": 0,
  "metadata": {
    "colab": {
      "name": "Portfolio.ipynb",
      "provenance": [],
      "authorship_tag": "ABX9TyPC1pdD3h2TozQ1biCNsNWQ",
      "include_colab_link": true
    },
    "kernelspec": {
      "name": "python3",
      "display_name": "Python 3"
    }
  },
  "cells": [
    {
      "cell_type": "markdown",
      "metadata": {
        "id": "view-in-github",
        "colab_type": "text"
      },
      "source": [
        "<a href=\"https://colab.research.google.com/github/Megapietia/Dark/blob/main/Portfolio.ipynb\" target=\"_parent\"><img src=\"https://colab.research.google.com/assets/colab-badge.svg\" alt=\"Open In Colab\"/></a>"
      ]
    },
    {
      "cell_type": "markdown",
      "metadata": {
        "id": "kdb7FpkJ2koK"
      },
      "source": [
        "# **Imports**"
      ]
    },
    {
      "cell_type": "code",
      "metadata": {
        "id": "KD6potmezIx_",
        "colab": {
          "base_uri": "https://localhost:8080/"
        },
        "outputId": "be8e5c22-1fc4-40ae-c791-403ebb56ebb0"
      },
      "source": [
        "import pandas as pd\r\n",
        "import numpy as np\r\n",
        "import scipy.stats\r\n",
        "import pandas_datareader as reader\r\n",
        "import datetime as dt\r\n",
        "import statsmodels.api as sm\r\n",
        "import matplotlib.pyplot as plt\r\n",
        "import seaborn as sns"
      ],
      "execution_count": 1,
      "outputs": [
        {
          "output_type": "stream",
          "text": [
            "/usr/local/lib/python3.7/dist-packages/statsmodels/tools/_testing.py:19: FutureWarning: pandas.util.testing is deprecated. Use the functions in the public API at pandas.testing instead.\n",
            "  import pandas.util.testing as tm\n"
          ],
          "name": "stderr"
        }
      ]
    },
    {
      "cell_type": "markdown",
      "metadata": {
        "id": "_5gEk7zDtWjD"
      },
      "source": [
        "# **Experiments**"
      ]
    },
    {
      "cell_type": "code",
      "metadata": {
        "colab": {
          "base_uri": "https://localhost:8080/"
        },
        "id": "QG_EiI7nzk6h",
        "outputId": "3bb4f9b8-b3f4-4536-a768-2946f4a4eeca"
      },
      "source": [
        "df = pd.read_csv('4SBER.csv', usecols=['Дата','Цена', 'Изм. %'], engine='python')\r\n",
        "# цена\r\n",
        "cost = np.array(df['Цена'], dtype=str)\r\n",
        "cost = np.char.replace(cost, ',', '.').astype(np.float32)\r\n",
        "# доходность\r\n",
        "change = np.array(df['Изм. %'], dtype='<U6')\r\n",
        "change = np.char.replace(change, '%', '')\r\n",
        "change = np.char.replace(change, ',', '.').astype(np.float32)\r\n",
        "# дата\r\n",
        "date = np.array(df['Дата'], dtype=str)\r\n",
        "# итоговый датафрейм\r\n",
        "findf = pd.DataFrame([date, cost, change])\r\n",
        "findf = findf.transpose().rename(columns={0: 'Date',1: 'Cost', 2: 'Change'}).iloc[::-1]\r\n",
        "findf\r\n",
        "# Статистика\r\n",
        "stats = pd.DataFrame([cost, change])\r\n",
        "stats = stats.transpose().rename(columns={0: 'Cost', 1: 'Change'})\r\n",
        "stats\r\n",
        "# График\r\n",
        "# findf.plot('Date', 'Cost')\r\n",
        "\r\n"
      ],
      "execution_count": null,
      "outputs": [
        {
          "output_type": "error",
          "ename": "FileNotFoundError",
          "evalue": "ignored",
          "traceback": [
            "\u001b[0;31m---------------------------------------------------------------------------\u001b[0m",
            "\u001b[0;31mFileNotFoundError\u001b[0m                         Traceback (most recent call last)",
            "\u001b[0;32m<ipython-input-5-b018e32b3b7f>\u001b[0m in \u001b[0;36m<module>\u001b[0;34m()\u001b[0m\n\u001b[0;32m----> 1\u001b[0;31m \u001b[0mdf\u001b[0m \u001b[0;34m=\u001b[0m \u001b[0mpd\u001b[0m\u001b[0;34m.\u001b[0m\u001b[0mread_csv\u001b[0m\u001b[0;34m(\u001b[0m\u001b[0;34m'4SBER.csv'\u001b[0m\u001b[0;34m,\u001b[0m \u001b[0musecols\u001b[0m\u001b[0;34m=\u001b[0m\u001b[0;34m[\u001b[0m\u001b[0;34m'Дата'\u001b[0m\u001b[0;34m,\u001b[0m\u001b[0;34m'Цена'\u001b[0m\u001b[0;34m,\u001b[0m \u001b[0;34m'Изм. %'\u001b[0m\u001b[0;34m]\u001b[0m\u001b[0;34m,\u001b[0m \u001b[0mengine\u001b[0m\u001b[0;34m=\u001b[0m\u001b[0;34m'python'\u001b[0m\u001b[0;34m)\u001b[0m\u001b[0;34m\u001b[0m\u001b[0;34m\u001b[0m\u001b[0m\n\u001b[0m\u001b[1;32m      2\u001b[0m \u001b[0;31m# цена\u001b[0m\u001b[0;34m\u001b[0m\u001b[0;34m\u001b[0m\u001b[0;34m\u001b[0m\u001b[0m\n\u001b[1;32m      3\u001b[0m \u001b[0mcost\u001b[0m \u001b[0;34m=\u001b[0m \u001b[0mnp\u001b[0m\u001b[0;34m.\u001b[0m\u001b[0marray\u001b[0m\u001b[0;34m(\u001b[0m\u001b[0mdf\u001b[0m\u001b[0;34m[\u001b[0m\u001b[0;34m'Цена'\u001b[0m\u001b[0;34m]\u001b[0m\u001b[0;34m,\u001b[0m \u001b[0mdtype\u001b[0m\u001b[0;34m=\u001b[0m\u001b[0mstr\u001b[0m\u001b[0;34m)\u001b[0m\u001b[0;34m\u001b[0m\u001b[0;34m\u001b[0m\u001b[0m\n\u001b[1;32m      4\u001b[0m \u001b[0mcost\u001b[0m \u001b[0;34m=\u001b[0m \u001b[0mnp\u001b[0m\u001b[0;34m.\u001b[0m\u001b[0mchar\u001b[0m\u001b[0;34m.\u001b[0m\u001b[0mreplace\u001b[0m\u001b[0;34m(\u001b[0m\u001b[0mcost\u001b[0m\u001b[0;34m,\u001b[0m \u001b[0;34m','\u001b[0m\u001b[0;34m,\u001b[0m \u001b[0;34m'.'\u001b[0m\u001b[0;34m)\u001b[0m\u001b[0;34m.\u001b[0m\u001b[0mastype\u001b[0m\u001b[0;34m(\u001b[0m\u001b[0mnp\u001b[0m\u001b[0;34m.\u001b[0m\u001b[0mfloat32\u001b[0m\u001b[0;34m)\u001b[0m\u001b[0;34m\u001b[0m\u001b[0;34m\u001b[0m\u001b[0m\n\u001b[1;32m      5\u001b[0m \u001b[0;31m# доходность\u001b[0m\u001b[0;34m\u001b[0m\u001b[0;34m\u001b[0m\u001b[0;34m\u001b[0m\u001b[0m\n",
            "\u001b[0;32m/usr/local/lib/python3.7/dist-packages/pandas/io/parsers.py\u001b[0m in \u001b[0;36mread_csv\u001b[0;34m(filepath_or_buffer, sep, delimiter, header, names, index_col, usecols, squeeze, prefix, mangle_dupe_cols, dtype, engine, converters, true_values, false_values, skipinitialspace, skiprows, skipfooter, nrows, na_values, keep_default_na, na_filter, verbose, skip_blank_lines, parse_dates, infer_datetime_format, keep_date_col, date_parser, dayfirst, cache_dates, iterator, chunksize, compression, thousands, decimal, lineterminator, quotechar, quoting, doublequote, escapechar, comment, encoding, dialect, error_bad_lines, warn_bad_lines, delim_whitespace, low_memory, memory_map, float_precision)\u001b[0m\n\u001b[1;32m    686\u001b[0m     )\n\u001b[1;32m    687\u001b[0m \u001b[0;34m\u001b[0m\u001b[0m\n\u001b[0;32m--> 688\u001b[0;31m     \u001b[0;32mreturn\u001b[0m \u001b[0m_read\u001b[0m\u001b[0;34m(\u001b[0m\u001b[0mfilepath_or_buffer\u001b[0m\u001b[0;34m,\u001b[0m \u001b[0mkwds\u001b[0m\u001b[0;34m)\u001b[0m\u001b[0;34m\u001b[0m\u001b[0;34m\u001b[0m\u001b[0m\n\u001b[0m\u001b[1;32m    689\u001b[0m \u001b[0;34m\u001b[0m\u001b[0m\n\u001b[1;32m    690\u001b[0m \u001b[0;34m\u001b[0m\u001b[0m\n",
            "\u001b[0;32m/usr/local/lib/python3.7/dist-packages/pandas/io/parsers.py\u001b[0m in \u001b[0;36m_read\u001b[0;34m(filepath_or_buffer, kwds)\u001b[0m\n\u001b[1;32m    452\u001b[0m \u001b[0;34m\u001b[0m\u001b[0m\n\u001b[1;32m    453\u001b[0m     \u001b[0;31m# Create the parser.\u001b[0m\u001b[0;34m\u001b[0m\u001b[0;34m\u001b[0m\u001b[0;34m\u001b[0m\u001b[0m\n\u001b[0;32m--> 454\u001b[0;31m     \u001b[0mparser\u001b[0m \u001b[0;34m=\u001b[0m \u001b[0mTextFileReader\u001b[0m\u001b[0;34m(\u001b[0m\u001b[0mfp_or_buf\u001b[0m\u001b[0;34m,\u001b[0m \u001b[0;34m**\u001b[0m\u001b[0mkwds\u001b[0m\u001b[0;34m)\u001b[0m\u001b[0;34m\u001b[0m\u001b[0;34m\u001b[0m\u001b[0m\n\u001b[0m\u001b[1;32m    455\u001b[0m \u001b[0;34m\u001b[0m\u001b[0m\n\u001b[1;32m    456\u001b[0m     \u001b[0;32mif\u001b[0m \u001b[0mchunksize\u001b[0m \u001b[0;32mor\u001b[0m \u001b[0miterator\u001b[0m\u001b[0;34m:\u001b[0m\u001b[0;34m\u001b[0m\u001b[0;34m\u001b[0m\u001b[0m\n",
            "\u001b[0;32m/usr/local/lib/python3.7/dist-packages/pandas/io/parsers.py\u001b[0m in \u001b[0;36m__init__\u001b[0;34m(self, f, engine, **kwds)\u001b[0m\n\u001b[1;32m    946\u001b[0m             \u001b[0mself\u001b[0m\u001b[0;34m.\u001b[0m\u001b[0moptions\u001b[0m\u001b[0;34m[\u001b[0m\u001b[0;34m\"has_index_names\"\u001b[0m\u001b[0;34m]\u001b[0m \u001b[0;34m=\u001b[0m \u001b[0mkwds\u001b[0m\u001b[0;34m[\u001b[0m\u001b[0;34m\"has_index_names\"\u001b[0m\u001b[0;34m]\u001b[0m\u001b[0;34m\u001b[0m\u001b[0;34m\u001b[0m\u001b[0m\n\u001b[1;32m    947\u001b[0m \u001b[0;34m\u001b[0m\u001b[0m\n\u001b[0;32m--> 948\u001b[0;31m         \u001b[0mself\u001b[0m\u001b[0;34m.\u001b[0m\u001b[0m_make_engine\u001b[0m\u001b[0;34m(\u001b[0m\u001b[0mself\u001b[0m\u001b[0;34m.\u001b[0m\u001b[0mengine\u001b[0m\u001b[0;34m)\u001b[0m\u001b[0;34m\u001b[0m\u001b[0;34m\u001b[0m\u001b[0m\n\u001b[0m\u001b[1;32m    949\u001b[0m \u001b[0;34m\u001b[0m\u001b[0m\n\u001b[1;32m    950\u001b[0m     \u001b[0;32mdef\u001b[0m \u001b[0mclose\u001b[0m\u001b[0;34m(\u001b[0m\u001b[0mself\u001b[0m\u001b[0;34m)\u001b[0m\u001b[0;34m:\u001b[0m\u001b[0;34m\u001b[0m\u001b[0;34m\u001b[0m\u001b[0m\n",
            "\u001b[0;32m/usr/local/lib/python3.7/dist-packages/pandas/io/parsers.py\u001b[0m in \u001b[0;36m_make_engine\u001b[0;34m(self, engine)\u001b[0m\n\u001b[1;32m   1189\u001b[0m                     \u001b[0;34m'are \"c\", \"python\", or \"python-fwf\")'\u001b[0m\u001b[0;34m\u001b[0m\u001b[0;34m\u001b[0m\u001b[0m\n\u001b[1;32m   1190\u001b[0m                 )\n\u001b[0;32m-> 1191\u001b[0;31m             \u001b[0mself\u001b[0m\u001b[0;34m.\u001b[0m\u001b[0m_engine\u001b[0m \u001b[0;34m=\u001b[0m \u001b[0mklass\u001b[0m\u001b[0;34m(\u001b[0m\u001b[0mself\u001b[0m\u001b[0;34m.\u001b[0m\u001b[0mf\u001b[0m\u001b[0;34m,\u001b[0m \u001b[0;34m**\u001b[0m\u001b[0mself\u001b[0m\u001b[0;34m.\u001b[0m\u001b[0moptions\u001b[0m\u001b[0;34m)\u001b[0m\u001b[0;34m\u001b[0m\u001b[0;34m\u001b[0m\u001b[0m\n\u001b[0m\u001b[1;32m   1192\u001b[0m \u001b[0;34m\u001b[0m\u001b[0m\n\u001b[1;32m   1193\u001b[0m     \u001b[0;32mdef\u001b[0m \u001b[0m_failover_to_python\u001b[0m\u001b[0;34m(\u001b[0m\u001b[0mself\u001b[0m\u001b[0;34m)\u001b[0m\u001b[0;34m:\u001b[0m\u001b[0;34m\u001b[0m\u001b[0;34m\u001b[0m\u001b[0m\n",
            "\u001b[0;32m/usr/local/lib/python3.7/dist-packages/pandas/io/parsers.py\u001b[0m in \u001b[0;36m__init__\u001b[0;34m(self, f, **kwds)\u001b[0m\n\u001b[1;32m   2387\u001b[0m             \u001b[0mencoding\u001b[0m\u001b[0;34m=\u001b[0m\u001b[0mself\u001b[0m\u001b[0;34m.\u001b[0m\u001b[0mencoding\u001b[0m\u001b[0;34m,\u001b[0m\u001b[0;34m\u001b[0m\u001b[0;34m\u001b[0m\u001b[0m\n\u001b[1;32m   2388\u001b[0m             \u001b[0mcompression\u001b[0m\u001b[0;34m=\u001b[0m\u001b[0mself\u001b[0m\u001b[0;34m.\u001b[0m\u001b[0mcompression\u001b[0m\u001b[0;34m,\u001b[0m\u001b[0;34m\u001b[0m\u001b[0;34m\u001b[0m\u001b[0m\n\u001b[0;32m-> 2389\u001b[0;31m             \u001b[0mmemory_map\u001b[0m\u001b[0;34m=\u001b[0m\u001b[0mself\u001b[0m\u001b[0;34m.\u001b[0m\u001b[0mmemory_map\u001b[0m\u001b[0;34m,\u001b[0m\u001b[0;34m\u001b[0m\u001b[0;34m\u001b[0m\u001b[0m\n\u001b[0m\u001b[1;32m   2390\u001b[0m         )\n\u001b[1;32m   2391\u001b[0m         \u001b[0mself\u001b[0m\u001b[0;34m.\u001b[0m\u001b[0mhandles\u001b[0m\u001b[0;34m.\u001b[0m\u001b[0mextend\u001b[0m\u001b[0;34m(\u001b[0m\u001b[0mhandles\u001b[0m\u001b[0;34m)\u001b[0m\u001b[0;34m\u001b[0m\u001b[0;34m\u001b[0m\u001b[0m\n",
            "\u001b[0;32m/usr/local/lib/python3.7/dist-packages/pandas/io/common.py\u001b[0m in \u001b[0;36mget_handle\u001b[0;34m(path_or_buf, mode, encoding, compression, memory_map, is_text, errors)\u001b[0m\n\u001b[1;32m    494\u001b[0m         \u001b[0;32melif\u001b[0m \u001b[0mis_text\u001b[0m\u001b[0;34m:\u001b[0m\u001b[0;34m\u001b[0m\u001b[0;34m\u001b[0m\u001b[0m\n\u001b[1;32m    495\u001b[0m             \u001b[0;31m# No explicit encoding\u001b[0m\u001b[0;34m\u001b[0m\u001b[0;34m\u001b[0m\u001b[0;34m\u001b[0m\u001b[0m\n\u001b[0;32m--> 496\u001b[0;31m             \u001b[0mf\u001b[0m \u001b[0;34m=\u001b[0m \u001b[0mopen\u001b[0m\u001b[0;34m(\u001b[0m\u001b[0mpath_or_buf\u001b[0m\u001b[0;34m,\u001b[0m \u001b[0mmode\u001b[0m\u001b[0;34m,\u001b[0m \u001b[0merrors\u001b[0m\u001b[0;34m=\u001b[0m\u001b[0;34m\"replace\"\u001b[0m\u001b[0;34m,\u001b[0m \u001b[0mnewline\u001b[0m\u001b[0;34m=\u001b[0m\u001b[0;34m\"\"\u001b[0m\u001b[0;34m)\u001b[0m\u001b[0;34m\u001b[0m\u001b[0;34m\u001b[0m\u001b[0m\n\u001b[0m\u001b[1;32m    497\u001b[0m         \u001b[0;32melse\u001b[0m\u001b[0;34m:\u001b[0m\u001b[0;34m\u001b[0m\u001b[0;34m\u001b[0m\u001b[0m\n\u001b[1;32m    498\u001b[0m             \u001b[0;31m# Binary mode\u001b[0m\u001b[0;34m\u001b[0m\u001b[0;34m\u001b[0m\u001b[0;34m\u001b[0m\u001b[0m\n",
            "\u001b[0;31mFileNotFoundError\u001b[0m: [Errno 2] No such file or directory: '4SBER.csv'"
          ]
        }
      ]
    },
    {
      "cell_type": "code",
      "metadata": {
        "colab": {
          "base_uri": "https://localhost:8080/"
        },
        "id": "jTCprL6gmtGh",
        "outputId": "47b33b79-0b84-4078-d179-099fa6133042"
      },
      "source": [
        "SberStdCost = stats.std()[0]\r\n",
        "SberStdChange = stats.std()[1]\r\n",
        "SberMeanCost = stats.mean()[0]\r\n",
        "SberMeanChange = stats.mean()[1]"
      ],
      "execution_count": null,
      "outputs": [
        {
          "output_type": "error",
          "ename": "NameError",
          "evalue": "ignored",
          "traceback": [
            "\u001b[0;31m---------------------------------------------------------------------------\u001b[0m",
            "\u001b[0;31mNameError\u001b[0m                                 Traceback (most recent call last)",
            "\u001b[0;32m<ipython-input-6-d7ca3ccbefa5>\u001b[0m in \u001b[0;36m<module>\u001b[0;34m()\u001b[0m\n\u001b[0;32m----> 1\u001b[0;31m \u001b[0mSberStdCost\u001b[0m \u001b[0;34m=\u001b[0m \u001b[0mstats\u001b[0m\u001b[0;34m.\u001b[0m\u001b[0mstd\u001b[0m\u001b[0;34m(\u001b[0m\u001b[0;34m)\u001b[0m\u001b[0;34m[\u001b[0m\u001b[0;36m0\u001b[0m\u001b[0;34m]\u001b[0m\u001b[0;34m\u001b[0m\u001b[0;34m\u001b[0m\u001b[0m\n\u001b[0m\u001b[1;32m      2\u001b[0m \u001b[0mSberStdChange\u001b[0m \u001b[0;34m=\u001b[0m \u001b[0mstats\u001b[0m\u001b[0;34m.\u001b[0m\u001b[0mstd\u001b[0m\u001b[0;34m(\u001b[0m\u001b[0;34m)\u001b[0m\u001b[0;34m[\u001b[0m\u001b[0;36m1\u001b[0m\u001b[0;34m]\u001b[0m\u001b[0;34m\u001b[0m\u001b[0;34m\u001b[0m\u001b[0m\n\u001b[1;32m      3\u001b[0m \u001b[0mSberMeanCost\u001b[0m \u001b[0;34m=\u001b[0m \u001b[0mstats\u001b[0m\u001b[0;34m.\u001b[0m\u001b[0mmean\u001b[0m\u001b[0;34m(\u001b[0m\u001b[0;34m)\u001b[0m\u001b[0;34m[\u001b[0m\u001b[0;36m0\u001b[0m\u001b[0;34m]\u001b[0m\u001b[0;34m\u001b[0m\u001b[0;34m\u001b[0m\u001b[0m\n\u001b[1;32m      4\u001b[0m \u001b[0mSberMeanChange\u001b[0m \u001b[0;34m=\u001b[0m \u001b[0mstats\u001b[0m\u001b[0;34m.\u001b[0m\u001b[0mmean\u001b[0m\u001b[0;34m(\u001b[0m\u001b[0;34m)\u001b[0m\u001b[0;34m[\u001b[0m\u001b[0;36m1\u001b[0m\u001b[0;34m]\u001b[0m\u001b[0;34m\u001b[0m\u001b[0;34m\u001b[0m\u001b[0m\n",
            "\u001b[0;31mNameError\u001b[0m: name 'stats' is not defined"
          ]
        }
      ]
    },
    {
      "cell_type": "code",
      "metadata": {
        "id": "WOpXBiEEkMTB"
      },
      "source": [
        "SberStdCost"
      ],
      "execution_count": null,
      "outputs": []
    },
    {
      "cell_type": "code",
      "metadata": {
        "id": "ZF1AJ-zukPrQ"
      },
      "source": [
        "SberMeanCost"
      ],
      "execution_count": null,
      "outputs": []
    },
    {
      "cell_type": "code",
      "metadata": {
        "id": "MB_gT1Cz3WS6"
      },
      "source": [
        "stats.describe()"
      ],
      "execution_count": null,
      "outputs": []
    },
    {
      "cell_type": "code",
      "metadata": {
        "id": "x0QhqEOKiyF_"
      },
      "source": [
        "def VaRWiki(Position, mu, sigma, Quantile, Period):\r\n",
        "  return Position*(-mu*Period+scipy.stats.norm.ppf(Quantile)*sigma*(Period)**(1/2))\r\n",
        "  "
      ],
      "execution_count": null,
      "outputs": []
    },
    {
      "cell_type": "code",
      "metadata": {
        "id": "rcG7Ra93jxvD"
      },
      "source": [
        "VaRWiki(stats['Cost'].iloc[-1], SberMeanChange,SberStdChange, 0.95, 7/365)"
      ],
      "execution_count": null,
      "outputs": []
    },
    {
      "cell_type": "markdown",
      "metadata": {
        "id": "O6xXuLKnnmVR"
      },
      "source": [
        "# **Calculation VaR for portfolio**"
      ]
    },
    {
      "cell_type": "code",
      "metadata": {
        "id": "wXMFH0mqniql"
      },
      "source": [
        "def VaR(Position,sigma,Quantile):\r\n",
        "  return Position*sigma*scipy.stats.norm.ppf(Quantile)"
      ],
      "execution_count": null,
      "outputs": []
    },
    {
      "cell_type": "code",
      "metadata": {
        "id": "BdGcNKh7adyz"
      },
      "source": [
        "end = dt.datetime.now()\r\n",
        "start = dt.datetime(end.year-4, end.month, end.day)"
      ],
      "execution_count": null,
      "outputs": []
    },
    {
      "cell_type": "code",
      "metadata": {
        "id": "rVi7JNISiXoK"
      },
      "source": [
        "period = ((end - start).days)/365\r\n",
        "Quantile = 0.95"
      ],
      "execution_count": null,
      "outputs": []
    },
    {
      "cell_type": "code",
      "metadata": {
        "id": "12n386-pdnHs"
      },
      "source": [
        "df = reader.get_data_yahoo(['AAPL','MSFT','TSLA'], start, end)['Adj Close']"
      ],
      "execution_count": null,
      "outputs": []
    },
    {
      "cell_type": "code",
      "metadata": {
        "id": "SwDIGhmYd_75"
      },
      "source": [
        "returns = np.log(1+df.pct_change())"
      ],
      "execution_count": null,
      "outputs": []
    },
    {
      "cell_type": "code",
      "metadata": {
        "colab": {
          "base_uri": "https://localhost:8080/"
        },
        "id": "Hoe7EoSReLID",
        "outputId": "c0f4acdf-b8f6-4831-f4f5-c10c56a7bf16"
      },
      "source": [
        "returns.std()"
      ],
      "execution_count": null,
      "outputs": [
        {
          "output_type": "execute_result",
          "data": {
            "text/plain": [
              "Symbols\n",
              "AAPL    0.020282\n",
              "MSFT    0.018407\n",
              "TSLA    0.039375\n",
              "dtype: float64"
            ]
          },
          "metadata": {
            "tags": []
          },
          "execution_count": 84
        }
      ]
    },
    {
      "cell_type": "code",
      "metadata": {
        "id": "vYrL24K9ebC8"
      },
      "source": [
        "Position = df.iloc[-1]"
      ],
      "execution_count": null,
      "outputs": []
    },
    {
      "cell_type": "code",
      "metadata": {
        "id": "I6_zexRfe1fr"
      },
      "source": [
        "VaRarray = []\r\n",
        "for i in range(len(Position)):\r\n",
        "  VaRarray.append(VaR(Position[i], returns.std()[i], Quantile))"
      ],
      "execution_count": null,
      "outputs": []
    },
    {
      "cell_type": "code",
      "metadata": {
        "colab": {
          "base_uri": "https://localhost:8080/"
        },
        "id": "EoSLqDJBe2p3",
        "outputId": "99eb6813-e5c8-46ef-921d-65d671b74386"
      },
      "source": [
        "VaRarray"
      ],
      "execution_count": null,
      "outputs": [
        {
          "output_type": "execute_result",
          "data": {
            "text/plain": [
              "[4.214670089324679, 7.1334632113992695, 45.35594595264133]"
            ]
          },
          "metadata": {
            "tags": []
          },
          "execution_count": 87
        }
      ]
    },
    {
      "cell_type": "code",
      "metadata": {
        "id": "5yHirTuPfVJs"
      },
      "source": [
        "vector = np.array(VaRarray)"
      ],
      "execution_count": null,
      "outputs": []
    },
    {
      "cell_type": "code",
      "metadata": {
        "colab": {
          "base_uri": "https://localhost:8080/",
          "height": 173
        },
        "id": "_lCrLH4ifbIB",
        "outputId": "b285bd61-9580-496d-f9de-09ac89c4397e"
      },
      "source": [
        "returns.corr()"
      ],
      "execution_count": null,
      "outputs": [
        {
          "output_type": "execute_result",
          "data": {
            "text/html": [
              "<div>\n",
              "<style scoped>\n",
              "    .dataframe tbody tr th:only-of-type {\n",
              "        vertical-align: middle;\n",
              "    }\n",
              "\n",
              "    .dataframe tbody tr th {\n",
              "        vertical-align: top;\n",
              "    }\n",
              "\n",
              "    .dataframe thead th {\n",
              "        text-align: right;\n",
              "    }\n",
              "</style>\n",
              "<table border=\"1\" class=\"dataframe\">\n",
              "  <thead>\n",
              "    <tr style=\"text-align: right;\">\n",
              "      <th>Symbols</th>\n",
              "      <th>AAPL</th>\n",
              "      <th>MSFT</th>\n",
              "      <th>TSLA</th>\n",
              "    </tr>\n",
              "    <tr>\n",
              "      <th>Symbols</th>\n",
              "      <th></th>\n",
              "      <th></th>\n",
              "      <th></th>\n",
              "    </tr>\n",
              "  </thead>\n",
              "  <tbody>\n",
              "    <tr>\n",
              "      <th>AAPL</th>\n",
              "      <td>1.000000</td>\n",
              "      <td>0.752040</td>\n",
              "      <td>0.422317</td>\n",
              "    </tr>\n",
              "    <tr>\n",
              "      <th>MSFT</th>\n",
              "      <td>0.752040</td>\n",
              "      <td>1.000000</td>\n",
              "      <td>0.438527</td>\n",
              "    </tr>\n",
              "    <tr>\n",
              "      <th>TSLA</th>\n",
              "      <td>0.422317</td>\n",
              "      <td>0.438527</td>\n",
              "      <td>1.000000</td>\n",
              "    </tr>\n",
              "  </tbody>\n",
              "</table>\n",
              "</div>"
            ],
            "text/plain": [
              "Symbols      AAPL      MSFT      TSLA\n",
              "Symbols                              \n",
              "AAPL     1.000000  0.752040  0.422317\n",
              "MSFT     0.752040  1.000000  0.438527\n",
              "TSLA     0.422317  0.438527  1.000000"
            ]
          },
          "metadata": {
            "tags": []
          },
          "execution_count": 89
        }
      ]
    },
    {
      "cell_type": "code",
      "metadata": {
        "colab": {
          "base_uri": "https://localhost:8080/"
        },
        "id": "FhQUX_f3fduw",
        "outputId": "15be3507-d607-4ec8-8726-b676d7ab91ff"
      },
      "source": [
        "print(f\"С вероятностью {Quantile} величина убытков портфеля не превысит {(np.dot(np.dot(vector, returns.corr()),vector))**(1/2)} долларов в течение {period} лет\")"
      ],
      "execution_count": null,
      "outputs": [
        {
          "output_type": "stream",
          "text": [
            "С вероятностью 0.95 величина убытков портфеля не превысит 51.14938274882958 долларов в течение 4.002739726027397 лет\n"
          ],
          "name": "stdout"
        }
      ]
    },
    {
      "cell_type": "markdown",
      "metadata": {
        "id": "QXxUjykas0JA"
      },
      "source": [
        "# **Calculating beta,alpha and creating regression model(Sharp model)**"
      ]
    },
    {
      "cell_type": "code",
      "metadata": {
        "id": "yVrPuCVRs-FC"
      },
      "source": [
        "end = dt.datetime.now()\r\n",
        "start = dt.date(end.year - 1, end.month,end.day)\r\n",
        "Input = ['TSLA', '^GSPC']"
      ],
      "execution_count": null,
      "outputs": []
    },
    {
      "cell_type": "code",
      "metadata": {
        "colab": {
          "base_uri": "https://localhost:8080/",
          "height": 235
        },
        "id": "P5kQf3fbtLFo",
        "outputId": "b64b766c-87ed-42f3-d994-99d739afeb57"
      },
      "source": [
        "df = reader.get_data_yahoo(Input, start, end)['Adj Close']\r\n",
        "df.head()"
      ],
      "execution_count": null,
      "outputs": [
        {
          "output_type": "execute_result",
          "data": {
            "text/html": [
              "<div>\n",
              "<style scoped>\n",
              "    .dataframe tbody tr th:only-of-type {\n",
              "        vertical-align: middle;\n",
              "    }\n",
              "\n",
              "    .dataframe tbody tr th {\n",
              "        vertical-align: top;\n",
              "    }\n",
              "\n",
              "    .dataframe thead th {\n",
              "        text-align: right;\n",
              "    }\n",
              "</style>\n",
              "<table border=\"1\" class=\"dataframe\">\n",
              "  <thead>\n",
              "    <tr style=\"text-align: right;\">\n",
              "      <th>Symbols</th>\n",
              "      <th>TSLA</th>\n",
              "      <th>^GSPC</th>\n",
              "    </tr>\n",
              "    <tr>\n",
              "      <th>Date</th>\n",
              "      <th></th>\n",
              "      <th></th>\n",
              "    </tr>\n",
              "  </thead>\n",
              "  <tbody>\n",
              "    <tr>\n",
              "      <th>2020-03-05</th>\n",
              "      <td>144.908005</td>\n",
              "      <td>3023.939941</td>\n",
              "    </tr>\n",
              "    <tr>\n",
              "      <th>2020-03-06</th>\n",
              "      <td>140.695999</td>\n",
              "      <td>2972.370117</td>\n",
              "    </tr>\n",
              "    <tr>\n",
              "      <th>2020-03-09</th>\n",
              "      <td>121.599998</td>\n",
              "      <td>2746.560059</td>\n",
              "    </tr>\n",
              "    <tr>\n",
              "      <th>2020-03-10</th>\n",
              "      <td>129.065994</td>\n",
              "      <td>2882.229980</td>\n",
              "    </tr>\n",
              "    <tr>\n",
              "      <th>2020-03-11</th>\n",
              "      <td>126.846001</td>\n",
              "      <td>2741.379883</td>\n",
              "    </tr>\n",
              "  </tbody>\n",
              "</table>\n",
              "</div>"
            ],
            "text/plain": [
              "Symbols           TSLA        ^GSPC\n",
              "Date                               \n",
              "2020-03-05  144.908005  3023.939941\n",
              "2020-03-06  140.695999  2972.370117\n",
              "2020-03-09  121.599998  2746.560059\n",
              "2020-03-10  129.065994  2882.229980\n",
              "2020-03-11  126.846001  2741.379883"
            ]
          },
          "metadata": {
            "tags": []
          },
          "execution_count": 22
        }
      ]
    },
    {
      "cell_type": "code",
      "metadata": {
        "colab": {
          "base_uri": "https://localhost:8080/",
          "height": 235
        },
        "id": "7qXy-VhttTYt",
        "outputId": "abd6a767-2da2-462d-ffef-8bb5c5875293"
      },
      "source": [
        "dl_ret = df.resample('M').ffill().pct_change()\r\n",
        "dl_ret = dl_ret.dropna(axis=0)\r\n",
        "dl_ret.head()"
      ],
      "execution_count": null,
      "outputs": [
        {
          "output_type": "execute_result",
          "data": {
            "text/html": [
              "<div>\n",
              "<style scoped>\n",
              "    .dataframe tbody tr th:only-of-type {\n",
              "        vertical-align: middle;\n",
              "    }\n",
              "\n",
              "    .dataframe tbody tr th {\n",
              "        vertical-align: top;\n",
              "    }\n",
              "\n",
              "    .dataframe thead th {\n",
              "        text-align: right;\n",
              "    }\n",
              "</style>\n",
              "<table border=\"1\" class=\"dataframe\">\n",
              "  <thead>\n",
              "    <tr style=\"text-align: right;\">\n",
              "      <th>Symbols</th>\n",
              "      <th>TSLA</th>\n",
              "      <th>^GSPC</th>\n",
              "    </tr>\n",
              "    <tr>\n",
              "      <th>Date</th>\n",
              "      <th></th>\n",
              "      <th></th>\n",
              "    </tr>\n",
              "  </thead>\n",
              "  <tbody>\n",
              "    <tr>\n",
              "      <th>2020-04-30</th>\n",
              "      <td>0.492137</td>\n",
              "      <td>0.126844</td>\n",
              "    </tr>\n",
              "    <tr>\n",
              "      <th>2020-05-31</th>\n",
              "      <td>0.067939</td>\n",
              "      <td>0.045282</td>\n",
              "    </tr>\n",
              "    <tr>\n",
              "      <th>2020-06-30</th>\n",
              "      <td>0.293186</td>\n",
              "      <td>0.018388</td>\n",
              "    </tr>\n",
              "    <tr>\n",
              "      <th>2020-07-31</th>\n",
              "      <td>0.325011</td>\n",
              "      <td>0.055101</td>\n",
              "    </tr>\n",
              "    <tr>\n",
              "      <th>2020-08-31</th>\n",
              "      <td>0.741452</td>\n",
              "      <td>0.070065</td>\n",
              "    </tr>\n",
              "  </tbody>\n",
              "</table>\n",
              "</div>"
            ],
            "text/plain": [
              "Symbols         TSLA     ^GSPC\n",
              "Date                          \n",
              "2020-04-30  0.492137  0.126844\n",
              "2020-05-31  0.067939  0.045282\n",
              "2020-06-30  0.293186  0.018388\n",
              "2020-07-31  0.325011  0.055101\n",
              "2020-08-31  0.741452  0.070065"
            ]
          },
          "metadata": {
            "tags": []
          },
          "execution_count": 23
        }
      ]
    },
    {
      "cell_type": "code",
      "metadata": {
        "id": "TlSUTtttt_KD"
      },
      "source": [
        "X =  dl_ret['^GSPC']\r\n",
        "y = dl_ret['TSLA']\r\n",
        "X_sm = sm.add_constant(X)"
      ],
      "execution_count": null,
      "outputs": []
    },
    {
      "cell_type": "code",
      "metadata": {
        "id": "tbn8_erqw__P"
      },
      "source": [
        "model = sm.OLS(y, X_sm)\r\n",
        "results = model.fit()"
      ],
      "execution_count": null,
      "outputs": []
    },
    {
      "cell_type": "code",
      "metadata": {
        "colab": {
          "base_uri": "https://localhost:8080/",
          "height": 498
        },
        "id": "A37H6lZRy6Qd",
        "outputId": "25e9125f-2882-4a0c-9411-cafc0dbbc769"
      },
      "source": [
        "results.summary()"
      ],
      "execution_count": null,
      "outputs": [
        {
          "output_type": "stream",
          "text": [
            "/usr/local/lib/python3.7/dist-packages/scipy/stats/stats.py:1535: UserWarning: kurtosistest only valid for n>=20 ... continuing anyway, n=12\n",
            "  \"anyway, n=%i\" % int(n))\n"
          ],
          "name": "stderr"
        },
        {
          "output_type": "execute_result",
          "data": {
            "text/html": [
              "<table class=\"simpletable\">\n",
              "<caption>OLS Regression Results</caption>\n",
              "<tr>\n",
              "  <th>Dep. Variable:</th>          <td>TSLA</td>       <th>  R-squared:         </th> <td>   0.621</td>\n",
              "</tr>\n",
              "<tr>\n",
              "  <th>Model:</th>                   <td>OLS</td>       <th>  Adj. R-squared:    </th> <td>   0.583</td>\n",
              "</tr>\n",
              "<tr>\n",
              "  <th>Method:</th>             <td>Least Squares</td>  <th>  F-statistic:       </th> <td>   16.36</td>\n",
              "</tr>\n",
              "<tr>\n",
              "  <th>Date:</th>             <td>Fri, 05 Mar 2021</td> <th>  Prob (F-statistic):</th>  <td>0.00234</td>\n",
              "</tr>\n",
              "<tr>\n",
              "  <th>Time:</th>                 <td>15:46:06</td>     <th>  Log-Likelihood:    </th> <td>  4.0674</td>\n",
              "</tr>\n",
              "<tr>\n",
              "  <th>No. Observations:</th>      <td>    12</td>      <th>  AIC:               </th> <td>  -4.135</td>\n",
              "</tr>\n",
              "<tr>\n",
              "  <th>Df Residuals:</th>          <td>    10</td>      <th>  BIC:               </th> <td>  -3.165</td>\n",
              "</tr>\n",
              "<tr>\n",
              "  <th>Df Model:</th>              <td>     1</td>      <th>                     </th>     <td> </td>   \n",
              "</tr>\n",
              "<tr>\n",
              "  <th>Covariance Type:</th>      <td>nonrobust</td>    <th>                     </th>     <td> </td>   \n",
              "</tr>\n",
              "</table>\n",
              "<table class=\"simpletable\">\n",
              "<tr>\n",
              "    <td></td>       <th>coef</th>     <th>std err</th>      <th>t</th>      <th>P>|t|</th>  <th>[0.025</th>    <th>0.975]</th>  \n",
              "</tr>\n",
              "<tr>\n",
              "  <th>const</th> <td>    0.0394</td> <td>    0.065</td> <td>    0.604</td> <td> 0.559</td> <td>   -0.106</td> <td>    0.185</td>\n",
              "</tr>\n",
              "<tr>\n",
              "  <th>^GSPC</th> <td>    4.4281</td> <td>    1.095</td> <td>    4.045</td> <td> 0.002</td> <td>    1.989</td> <td>    6.867</td>\n",
              "</tr>\n",
              "</table>\n",
              "<table class=\"simpletable\">\n",
              "<tr>\n",
              "  <th>Omnibus:</th>       <td> 1.986</td> <th>  Durbin-Watson:     </th> <td>   1.858</td>\n",
              "</tr>\n",
              "<tr>\n",
              "  <th>Prob(Omnibus):</th> <td> 0.370</td> <th>  Jarque-Bera (JB):  </th> <td>   0.552</td>\n",
              "</tr>\n",
              "<tr>\n",
              "  <th>Skew:</th>          <td> 0.509</td> <th>  Prob(JB):          </th> <td>   0.759</td>\n",
              "</tr>\n",
              "<tr>\n",
              "  <th>Kurtosis:</th>      <td> 3.258</td> <th>  Cond. No.          </th> <td>    20.1</td>\n",
              "</tr>\n",
              "</table><br/><br/>Warnings:<br/>[1] Standard Errors assume that the covariance matrix of the errors is correctly specified."
            ],
            "text/plain": [
              "<class 'statsmodels.iolib.summary.Summary'>\n",
              "\"\"\"\n",
              "                            OLS Regression Results                            \n",
              "==============================================================================\n",
              "Dep. Variable:                   TSLA   R-squared:                       0.621\n",
              "Model:                            OLS   Adj. R-squared:                  0.583\n",
              "Method:                 Least Squares   F-statistic:                     16.36\n",
              "Date:                Fri, 05 Mar 2021   Prob (F-statistic):            0.00234\n",
              "Time:                        15:46:06   Log-Likelihood:                 4.0674\n",
              "No. Observations:                  12   AIC:                            -4.135\n",
              "Df Residuals:                      10   BIC:                            -3.165\n",
              "Df Model:                           1                                         \n",
              "Covariance Type:            nonrobust                                         \n",
              "==============================================================================\n",
              "                 coef    std err          t      P>|t|      [0.025      0.975]\n",
              "------------------------------------------------------------------------------\n",
              "const          0.0394      0.065      0.604      0.559      -0.106       0.185\n",
              "^GSPC          4.4281      1.095      4.045      0.002       1.989       6.867\n",
              "==============================================================================\n",
              "Omnibus:                        1.986   Durbin-Watson:                   1.858\n",
              "Prob(Omnibus):                  0.370   Jarque-Bera (JB):                0.552\n",
              "Skew:                           0.509   Prob(JB):                        0.759\n",
              "Kurtosis:                       3.258   Cond. No.                         20.1\n",
              "==============================================================================\n",
              "\n",
              "Warnings:\n",
              "[1] Standard Errors assume that the covariance matrix of the errors is correctly specified.\n",
              "\"\"\""
            ]
          },
          "metadata": {
            "tags": []
          },
          "execution_count": 26
        }
      ]
    },
    {
      "cell_type": "code",
      "metadata": {
        "colab": {
          "base_uri": "https://localhost:8080/"
        },
        "id": "E-nqmA9D1rNJ",
        "outputId": "5d87785c-f59b-4afc-ae96-d14254dbdbd9"
      },
      "source": [
        "alpha = results.params[0]\r\n",
        "beta = results.params[1]\r\n",
        "print(f'alpha: {alpha}, beta: {beta}')"
      ],
      "execution_count": null,
      "outputs": [
        {
          "output_type": "stream",
          "text": [
            "alpha: 0.03944949794813607, beta: 4.428057867038923\n"
          ],
          "name": "stdout"
        }
      ]
    },
    {
      "cell_type": "code",
      "metadata": {
        "colab": {
          "base_uri": "https://localhost:8080/",
          "height": 279
        },
        "id": "mym9j64_y8Bf",
        "outputId": "0107f963-809f-4a29-9a95-49d9c6031e3a"
      },
      "source": [
        "sns.regplot(x='^GSPC', y='TSLA', data=dl_ret)\r\n",
        "plt.show()"
      ],
      "execution_count": null,
      "outputs": [
        {
          "output_type": "display_data",
          "data": {
            "image/png": "[encoded data removed]",
            "text/plain": [
              "<Figure size 432x288 with 1 Axes>"
            ]
          },
          "metadata": {
            "tags": [],
            "needs_background": "light"
          }
        }
      ]
    },
    {
      "cell_type": "code",
      "metadata": {
        "id": "OUSBDjpb0Hun"
      },
      "source": [
        ""
      ],
      "execution_count": null,
      "outputs": []
    },
    {
      "cell_type": "markdown",
      "metadata": {
        "id": "MmWbOXn049vn"
      },
      "source": [
        "# **Stock price simulation**"
      ]
    },
    {
      "cell_type": "code",
      "metadata": {
        "id": "OyPuQXrgsPDe"
      },
      "source": [
        "days_ToPred = 252"
      ],
      "execution_count": null,
      "outputs": []
    },
    {
      "cell_type": "code",
      "metadata": {
        "id": "digKuoVf5FCT"
      },
      "source": [
        "end = dt.datetime.now()\r\n",
        "start = dt.datetime(end.year-5, end.month, end.day)"
      ],
      "execution_count": null,
      "outputs": []
    },
    {
      "cell_type": "code",
      "metadata": {
        "colab": {
          "base_uri": "https://localhost:8080/"
        },
        "id": "3IGc9_VF5XPn",
        "outputId": "ef6caa37-ab77-41ca-9912-1aef5055ba92"
      },
      "source": [
        "df = reader.get_data_yahoo(['AAPL'], start, end)['Adj Close']\r\n",
        "df.describe()"
      ],
      "execution_count": null,
      "outputs": [
        {
          "output_type": "execute_result",
          "data": {
            "text/html": [
              "<div>\n",
              "<style scoped>\n",
              "    .dataframe tbody tr th:only-of-type {\n",
              "        vertical-align: middle;\n",
              "    }\n",
              "\n",
              "    .dataframe tbody tr th {\n",
              "        vertical-align: top;\n",
              "    }\n",
              "\n",
              "    .dataframe thead th {\n",
              "        text-align: right;\n",
              "    }\n",
              "</style>\n",
              "<table border=\"1\" class=\"dataframe\">\n",
              "  <thead>\n",
              "    <tr style=\"text-align: right;\">\n",
              "      <th>Symbols</th>\n",
              "      <th>AAPL</th>\n",
              "    </tr>\n",
              "  </thead>\n",
              "  <tbody>\n",
              "    <tr>\n",
              "      <th>count</th>\n",
              "      <td>1259.000000</td>\n",
              "    </tr>\n",
              "    <tr>\n",
              "      <th>mean</th>\n",
              "      <td>54.298968</td>\n",
              "    </tr>\n",
              "    <tr>\n",
              "      <th>std</th>\n",
              "      <td>29.736891</td>\n",
              "    </tr>\n",
              "    <tr>\n",
              "      <th>min</th>\n",
              "      <td>21.134403</td>\n",
              "    </tr>\n",
              "    <tr>\n",
              "      <th>25%</th>\n",
              "      <td>34.987810</td>\n",
              "    </tr>\n",
              "    <tr>\n",
              "      <th>50%</th>\n",
              "      <td>44.532402</td>\n",
              "    </tr>\n",
              "    <tr>\n",
              "      <th>75%</th>\n",
              "      <td>64.370293</td>\n",
              "    </tr>\n",
              "    <tr>\n",
              "      <th>max</th>\n",
              "      <td>142.946396</td>\n",
              "    </tr>\n",
              "  </tbody>\n",
              "</table>\n",
              "</div>"
            ],
            "text/plain": [
              "Symbols         AAPL\n",
              "count    1259.000000\n",
              "mean       54.298968\n",
              "std        29.736891\n",
              "min        21.134403\n",
              "25%        34.987810\n",
              "50%        44.532402\n",
              "75%        64.370293\n",
              "max       142.946396"
            ]
          },
          "metadata": {
            "tags": []
          },
          "execution_count": 38
        }
      ]
    },
    {
      "cell_type": "code",
      "metadata": {
        "colab": {
          "base_uri": "https://localhost:8080/"
        },
        "id": "ewEeYA5uvW1j",
        "outputId": "01026f3f-c34d-4c3f-f92e-4ca33936220b"
      },
      "source": [
        "sns.displot(df, height=8)"
      ],
      "execution_count": null,
      "outputs": [
        {
          "output_type": "execute_result",
          "data": {
            "text/plain": [
              "<seaborn.axisgrid.FacetGrid at 0x7f4242e75d90>"
            ]
          },
          "metadata": {
            "tags": []
          },
          "execution_count": 39
        },
        {
          "output_type": "display_data",
          "data": {
            "image/png": "[encoded data removed]",
            "text/plain": [
              "<Figure size 637.5x576 with 1 Axes>"
            ]
          },
          "metadata": {
            "tags": [],
            "needs_background": "light"
          }
        }
      ]
    },
    {
      "cell_type": "code",
      "metadata": {
        "id": "0xYxr0Gn5mXo"
      },
      "source": [
        "returns = np.log(1+df.pct_change())\r\n",
        "mu, sigma = returns.mean(), returns.std()\r\n"
      ],
      "execution_count": null,
      "outputs": []
    },
    {
      "cell_type": "code",
      "metadata": {
        "colab": {
          "base_uri": "https://localhost:8080/"
        },
        "id": "YHtayS9glyFR",
        "outputId": "973c7bff-738a-4201-9171-5d1324fd0488"
      },
      "source": [
        "plt.plot(returns)\r\n",
        "plt.show()"
      ],
      "execution_count": null,
      "outputs": [
        {
          "output_type": "display_data",
          "data": {
            "image/png": "[encoded data removed]",
            "text/plain": [
              "<Figure size 432x288 with 1 Axes>"
            ]
          },
          "metadata": {
            "tags": [],
            "needs_background": "light"
          }
        }
      ]
    },
    {
      "cell_type": "code",
      "metadata": {
        "id": "CQ1QkD6n51w-"
      },
      "source": [
        "sim_rets = np.random.normal(mu,sigma,days_ToPred)\r\n",
        "initial = df.iloc[-1][0]"
      ],
      "execution_count": null,
      "outputs": []
    },
    {
      "cell_type": "code",
      "metadata": {
        "colab": {
          "base_uri": "https://localhost:8080/"
        },
        "id": "VI3Z0CZU6DCM",
        "outputId": "c769abe6-df7f-4e0a-9152-5a390068852c"
      },
      "source": [
        "sim_prices = initial * (sim_rets + 1).cumprod()\r\n",
        "plt.plot(sim_prices)"
      ],
      "execution_count": null,
      "outputs": [
        {
          "output_type": "execute_result",
          "data": {
            "text/plain": [
              "[<matplotlib.lines.Line2D at 0x7f7a1ec85a90>]"
            ]
          },
          "metadata": {
            "tags": []
          },
          "execution_count": 219
        },
        {
          "output_type": "display_data",
          "data": {
            "image/png": "[encoded data removed]",
            "text/plain": [
              "<Figure size 432x288 with 1 Axes>"
            ]
          },
          "metadata": {
            "tags": [],
            "needs_background": "light"
          }
        }
      ]
    },
    {
      "cell_type": "code",
      "metadata": {
        "colab": {
          "base_uri": "https://localhost:8080/"
        },
        "id": "xRm6ZavR-Yl3",
        "outputId": "26c5e0a9-60d1-4251-ae4a-d79e42f3742f"
      },
      "source": [
        "for i in range(100):\r\n",
        "  sim_rets = np.random.normal(mu,sigma,days_ToPred)\r\n",
        "  sim_prices = initial * (sim_rets + 1).cumprod()\r\n",
        "  plt.axhline(initial,c='k')\r\n",
        "  plt.plot(sim_prices)"
      ],
      "execution_count": null,
      "outputs": [
        {
          "output_type": "display_data",
          "data": {
            "image/png": "[encoded data removed]",
            "text/plain": [
              "<Figure size 432x288 with 1 Axes>"
            ]
          },
          "metadata": {
            "tags": [],
            "needs_background": "light"
          }
        }
      ]
    },
    {
      "cell_type": "code",
      "metadata": {
        "colab": {
          "base_uri": "https://localhost:8080/"
        },
        "id": "1LAwMJ4qri7K",
        "outputId": "d32a6a37-d4e1-4ee3-8e8f-236e7ecc30d0"
      },
      "source": [
        "sns.displot(pd.DataFrame(sim_prices), kde=True)\r\n",
        "plt.xlabel(f\"Price after {days_ToPred} days\")\r\n"
      ],
      "execution_count": null,
      "outputs": [
        {
          "output_type": "execute_result",
          "data": {
            "text/plain": [
              "Text(0.5, 6.79999999999999, 'Price after 252 days')"
            ]
          },
          "metadata": {
            "tags": []
          },
          "execution_count": 221
        },
        {
          "output_type": "display_data",
          "data": {
            "image/png": "[encoded data removed]",
            "text/plain": [
              "<Figure size 402.25x360 with 1 Axes>"
            ]
          },
          "metadata": {
            "tags": [],
            "needs_background": "light"
          }
        }
      ]
    },
    {
      "cell_type": "code",
      "metadata": {
        "colab": {
          "base_uri": "https://localhost:8080/"
        },
        "id": "dvq-S0JOt7DM",
        "outputId": "cd726321-6c5e-47e7-ffdd-410b46c33565"
      },
      "source": [
        "pd.DataFrame(sim_prices).describe()"
      ],
      "execution_count": null,
      "outputs": [
        {
          "output_type": "execute_result",
          "data": {
            "text/html": [
              "<div>\n",
              "<style scoped>\n",
              "    .dataframe tbody tr th:only-of-type {\n",
              "        vertical-align: middle;\n",
              "    }\n",
              "\n",
              "    .dataframe tbody tr th {\n",
              "        vertical-align: top;\n",
              "    }\n",
              "\n",
              "    .dataframe thead th {\n",
              "        text-align: right;\n",
              "    }\n",
              "</style>\n",
              "<table border=\"1\" class=\"dataframe\">\n",
              "  <thead>\n",
              "    <tr style=\"text-align: right;\">\n",
              "      <th></th>\n",
              "      <th>0</th>\n",
              "    </tr>\n",
              "  </thead>\n",
              "  <tbody>\n",
              "    <tr>\n",
              "      <th>count</th>\n",
              "      <td>252.000000</td>\n",
              "    </tr>\n",
              "    <tr>\n",
              "      <th>mean</th>\n",
              "      <td>1525.960082</td>\n",
              "    </tr>\n",
              "    <tr>\n",
              "      <th>std</th>\n",
              "      <td>615.091235</td>\n",
              "    </tr>\n",
              "    <tr>\n",
              "      <th>min</th>\n",
              "      <td>552.428016</td>\n",
              "    </tr>\n",
              "    <tr>\n",
              "      <th>25%</th>\n",
              "      <td>1029.238961</td>\n",
              "    </tr>\n",
              "    <tr>\n",
              "      <th>50%</th>\n",
              "      <td>1492.330794</td>\n",
              "    </tr>\n",
              "    <tr>\n",
              "      <th>75%</th>\n",
              "      <td>1969.137878</td>\n",
              "    </tr>\n",
              "    <tr>\n",
              "      <th>max</th>\n",
              "      <td>2845.729755</td>\n",
              "    </tr>\n",
              "  </tbody>\n",
              "</table>\n",
              "</div>"
            ],
            "text/plain": [
              "                 0\n",
              "count   252.000000\n",
              "mean   1525.960082\n",
              "std     615.091235\n",
              "min     552.428016\n",
              "25%    1029.238961\n",
              "50%    1492.330794\n",
              "75%    1969.137878\n",
              "max    2845.729755"
            ]
          },
          "metadata": {
            "tags": []
          },
          "execution_count": 222
        }
      ]
    },
    {
      "cell_type": "markdown",
      "metadata": {
        "id": "F9EE-m0tCsjr"
      },
      "source": [
        "# **Stock price simulation 2**"
      ]
    },
    {
      "cell_type": "code",
      "metadata": {
        "id": "SRLP34CKGzte"
      },
      "source": [
        "end = dt.datetime.now()\r\n",
        "start = dt.datetime(end.year-5, end.month, end.day)"
      ],
      "execution_count": 238,
      "outputs": []
    },
    {
      "cell_type": "code",
      "metadata": {
        "id": "9wsQ_NkIunuC"
      },
      "source": [
        "ticks = ['JNJ']\r\n",
        "data = pd.DataFrame(reader.get_data_yahoo(ticks, start, end)['Adj Close'])\r\n",
        "new_data = pd.DataFrame(reader.get_data_yahoo(ticks, start, end)['Adj Close'])"
      ],
      "execution_count": 239,
      "outputs": []
    },
    {
      "cell_type": "code",
      "metadata": {
        "id": "xaXvBCCvceFI"
      },
      "source": [
        "last_price = round(new_data.iloc[-1].values[0], 2)"
      ],
      "execution_count": 240,
      "outputs": []
    },
    {
      "cell_type": "code",
      "metadata": {
        "id": "Eyy4Ya0Lu7VG"
      },
      "source": [
        "def log_returns(data):\r\n",
        "    return (np.log(1+data.pct_change()))"
      ],
      "execution_count": 241,
      "outputs": []
    },
    {
      "cell_type": "code",
      "metadata": {
        "id": "rdgPYpJDu77W"
      },
      "source": [
        "log_return = log_returns(data).dropna()"
      ],
      "execution_count": 242,
      "outputs": []
    },
    {
      "cell_type": "code",
      "metadata": {
        "id": "1wObrIZNvD2v"
      },
      "source": [
        "def simple_returns(data):\r\n",
        "    return ((data/data.shift(1))-1).dropna()"
      ],
      "execution_count": 243,
      "outputs": []
    },
    {
      "cell_type": "code",
      "metadata": {
        "id": "Ztzqw0oCvNwZ"
      },
      "source": [
        "def market_data_combination(data, mark_ticker = \"^GSPC\"):\r\n",
        "    market_data = pd.DataFrame(pd.DataFrame(reader.get_data_yahoo(\"^GSPC\", start, end)['Adj Close']).rename(columns={'Adj Close': '^GSPC'}))\r\n",
        "    market_rets = log_returns(market_data).dropna()\r\n",
        "    ann_return = np.exp(market_rets.mean()*252).values-1\r\n",
        "    data = data.merge(market_data, left_index=True, right_index=True)\r\n",
        "    return data, ann_return"
      ],
      "execution_count": 244,
      "outputs": []
    },
    {
      "cell_type": "code",
      "metadata": {
        "id": "ovImFYVB9T5D"
      },
      "source": [
        "def beta_sharpe(data, mark_ticker=\"^GSPC\", riskfree = 0.025):\r\n",
        "    dd, mark_ret = market_data_combination(data)\r\n",
        "    log_ret = log_returns(dd)\r\n",
        "    covar = log_ret.cov()*252\r\n",
        "    covar = pd.DataFrame(covar.iloc[:-1,-1])\r\n",
        "    mrk_var = log_ret.iloc[:,-1].var()*252\r\n",
        "    beta = covar/mrk_var\r\n",
        "    \r\n",
        "    stdev_ret = pd.DataFrame(((log_ret.std()*250**0.5)[:-1]), columns=['STD'])\r\n",
        "    beta = beta.merge(stdev_ret, left_index=True, right_index=True)\r\n",
        "    \r\n",
        "    # CAPM\r\n",
        "    for i, row in beta.iterrows():\r\n",
        "        beta.at[i,'CAPM'] = riskfree + (row[mark_ticker] * (mark_ret-riskfree))\r\n",
        "    # Sharpe\r\n",
        "    for i, row in beta.iterrows():\r\n",
        "        beta.at[i,'Sharpe'] = ((row['CAPM']-riskfree)/(row['STD']))\r\n",
        "    beta.rename(columns={\"^GSPC\":\"Beta\"}, inplace=True)\r\n",
        "    \r\n",
        "    return beta"
      ],
      "execution_count": 245,
      "outputs": []
    },
    {
      "cell_type": "code",
      "metadata": {
        "colab": {
          "base_uri": "https://localhost:8080/",
          "height": 80
        },
        "id": "ORWEDBXYDmtc",
        "outputId": "95dbb8a6-54b0-4275-83fe-047533cf9fd1"
      },
      "source": [
        "beta_sharpe(data)"
      ],
      "execution_count": 246,
      "outputs": [
        {
          "output_type": "execute_result",
          "data": {
            "text/html": [
              "<div>\n",
              "<style scoped>\n",
              "    .dataframe tbody tr th:only-of-type {\n",
              "        vertical-align: middle;\n",
              "    }\n",
              "\n",
              "    .dataframe tbody tr th {\n",
              "        vertical-align: top;\n",
              "    }\n",
              "\n",
              "    .dataframe thead th {\n",
              "        text-align: right;\n",
              "    }\n",
              "</style>\n",
              "<table border=\"1\" class=\"dataframe\">\n",
              "  <thead>\n",
              "    <tr style=\"text-align: right;\">\n",
              "      <th></th>\n",
              "      <th>Beta</th>\n",
              "      <th>STD</th>\n",
              "      <th>CAPM</th>\n",
              "      <th>Sharpe</th>\n",
              "    </tr>\n",
              "  </thead>\n",
              "  <tbody>\n",
              "    <tr>\n",
              "      <th>JNJ</th>\n",
              "      <td>0.653957</td>\n",
              "      <td>0.198314</td>\n",
              "      <td>0.102705</td>\n",
              "      <td>0.391827</td>\n",
              "    </tr>\n",
              "  </tbody>\n",
              "</table>\n",
              "</div>"
            ],
            "text/plain": [
              "         Beta       STD      CAPM    Sharpe\n",
              "JNJ  0.653957  0.198314  0.102705  0.391827"
            ]
          },
          "metadata": {
            "tags": []
          },
          "execution_count": 246
        }
      ]
    },
    {
      "cell_type": "code",
      "metadata": {
        "id": "pMUtGZBaDz8z"
      },
      "source": [
        "def drift_calc(data, return_type='log'):\r\n",
        "    if return_type=='log':\r\n",
        "        lr = log_returns(data)\r\n",
        "    elif return_type=='simple':\r\n",
        "        lr = simple_returns(data)\r\n",
        "    mu = lr.mean()\r\n",
        "    var = lr.var()\r\n",
        "    drift = mu-(0.5*var)\r\n",
        "    try:\r\n",
        "        return drift.values\r\n",
        "    except:\r\n",
        "        return drift"
      ],
      "execution_count": 247,
      "outputs": []
    },
    {
      "cell_type": "code",
      "metadata": {
        "colab": {
          "base_uri": "https://localhost:8080/"
        },
        "id": "NoLR9RrKJWs2",
        "outputId": "31941e1c-e7ba-43cd-a376-f39d20be1f8c"
      },
      "source": [
        "drift_calc(data)"
      ],
      "execution_count": 248,
      "outputs": [
        {
          "output_type": "execute_result",
          "data": {
            "text/plain": [
              "array([0.00034439])"
            ]
          },
          "metadata": {
            "tags": []
          },
          "execution_count": 248
        }
      ]
    },
    {
      "cell_type": "code",
      "metadata": {
        "id": "TnG__EWwJXHH"
      },
      "source": [
        "def daily_returns(data, days, iterations, return_type='log'):\r\n",
        "    ft = drift_calc(data, return_type)\r\n",
        "    if return_type == 'log':\r\n",
        "        try:\r\n",
        "            stv = log_returns(data).std().values\r\n",
        "        except:\r\n",
        "            stv = log_returns(data).std()\r\n",
        "    elif return_type=='simple':\r\n",
        "        try:\r\n",
        "            stv = simple_returns(data).std().values\r\n",
        "        except:\r\n",
        "            stv = simple_returns(data).std()    \r\n",
        "    dr = np.exp(ft + stv * scipy.stats.norm.ppf(np.random.rand(days, iterations)))\r\n",
        "    return dr\r\n"
      ],
      "execution_count": 249,
      "outputs": []
    },
    {
      "cell_type": "code",
      "metadata": {
        "colab": {
          "base_uri": "https://localhost:8080/"
        },
        "id": "FR6Ov9msKH2R",
        "outputId": "b3f6e6e6-387c-44aa-b57e-534d932e1dce"
      },
      "source": [
        "dr = daily_returns(data, 2, 3)\r\n",
        "dr"
      ],
      "execution_count": 250,
      "outputs": [
        {
          "output_type": "execute_result",
          "data": {
            "text/plain": [
              "array([[1.00626147, 1.01372663, 1.00621824],\n",
              "       [0.98238595, 0.98700441, 1.00772137]])"
            ]
          },
          "metadata": {
            "tags": []
          },
          "execution_count": 250
        }
      ]
    },
    {
      "cell_type": "code",
      "metadata": {
        "id": "-yxu86B0O3pt"
      },
      "source": [
        "def probs_find(predicted, higherthan, on = 'value'):\r\n",
        "    if on == 'return':\r\n",
        "        predicted0 = predicted.iloc[0,0]\r\n",
        "        predicted = predicted.iloc[-1]\r\n",
        "        predList = list(predicted)\r\n",
        "        over = [(i*100)/predicted0 for i in predList if ((i-predicted0)*100)/predicted0 >= higherthan]\r\n",
        "        less = [(i*100)/predicted0 for i in predList if ((i-predicted0)*100)/predicted0 < higherthan]\r\n",
        "    elif on == 'value':\r\n",
        "        predicted = predicted.iloc[-1]\r\n",
        "        predList = list(predicted)\r\n",
        "        over = [i for i in predList if i >= higherthan]\r\n",
        "        less = [i for i in predList if i < higherthan]\r\n",
        "    else:\r\n",
        "        print(\"'on' must be either value or return\")\r\n",
        "    return (len(over)/(len(over)+len(less)))"
      ],
      "execution_count": 251,
      "outputs": []
    },
    {
      "cell_type": "code",
      "metadata": {
        "id": "i6M_g-TPMeWd"
      },
      "source": [
        "def simulate_mc(data, days, iterations, return_type='log', plot=True):\r\n",
        "    # Generate daily returns\r\n",
        "    returns = daily_returns(data, days, iterations, return_type)\r\n",
        "    # Create empty matrix\r\n",
        "    price_list = np.zeros_like(returns)\r\n",
        "    # Put the last actual price in the first row of matrix. \r\n",
        "    price_list[0] = data.iloc[-1]\r\n",
        "    # Calculate the price of each day\r\n",
        "    returns_array = []\r\n",
        "    price_array = []\r\n",
        "    for t in range(1,days):\r\n",
        "        price_list[t] = price_list[t-1]*returns[t]\r\n",
        "        np.log(1+data.pct_change())\r\n",
        "        # print(np.array(np.log(1+pd.DataFrame(price_list[t]).pct_change()).mean()))\r\n",
        "        # print(np.array(np.log(1+(price_list[t]-price_list[t-1])/price_list[t]).mean()))\r\n",
        "        returns_array.append(((price_list[t]-price_list[t-1])/price_list[t]).mean())\r\n",
        "\r\n",
        "    \r\n",
        "    # Plot Option\r\n",
        "    if plot == True:\r\n",
        "        x = pd.DataFrame(price_list).iloc[-1]\r\n",
        "        sns.displot(x, kde=True, aspect=2)\r\n",
        "        plt.xlabel(\"Stock Price\")\r\n",
        "        plt.show()\r\n",
        "    \r\n",
        "    # Printing information about stock\r\n",
        "    try:\r\n",
        "        [print(nam) for nam in data.columns]\r\n",
        "    except:\r\n",
        "        print(data.name)\r\n",
        "    print(f\"Days: {days-1}\")\r\n",
        "    print(f\"last price: ${last_price}\")\r\n",
        "    print(f\"Expected Value: ${round(pd.DataFrame(price_list).iloc[-1].mean(),5)}\")\r\n",
        "    print(f\"Return: {((pd.DataFrame(price_list).iloc[-1].mean()-price_list[0,1])/pd.DataFrame(price_list).iloc[-1].mean())}%\")\r\n",
        "    print(f\"Probability of Breakeven: {probs_find(pd.DataFrame(price_list),0, on='return')}\")\r\n",
        "    print(beta_sharpe(data).iloc[0].transpose().to_string())\r\n",
        "    print(pd.DataFrame(price_list).iloc[-1].describe(percentiles=[.95, .99, .5, .6]))  \r\n",
        "    return returns_array"
      ],
      "execution_count": 252,
      "outputs": []
    },
    {
      "cell_type": "code",
      "metadata": {
        "colab": {
          "base_uri": "https://localhost:8080/",
          "height": 828
        },
        "id": "tVpdOmZ6PWuJ",
        "outputId": "0737f52d-60ea-4913-efd5-17d741c22778"
      },
      "source": [
        "simulate_mc(data, 8, 50000, 'log')"
      ],
      "execution_count": 253,
      "outputs": [
        {
          "output_type": "display_data",
          "data": {
            "image/png": "[encoded data removed]",
            "text/plain": [
              "<Figure size 720x360 with 1 Axes>"
            ]
          },
          "metadata": {
            "tags": [],
            "needs_background": "light"
          }
        },
        {
          "output_type": "stream",
          "text": [
            "JNJ\n",
            "Days: 7\n",
            "last price: $160.41\n",
            "Expected Value: $160.89277\n",
            "Return: 0.003000532496651131%\n",
            "Probability of Breakeven: 0.52794\n",
            "Beta      0.653957\n",
            "STD       0.198314\n",
            "CAPM      0.102706\n",
            "Sharpe    0.391831\n",
            "count    50000.000000\n",
            "mean       160.892768\n",
            "std          5.356227\n",
            "min        139.064803\n",
            "50%        160.794570\n",
            "60%        162.166647\n",
            "95%        169.839206\n",
            "99%        173.758599\n",
            "max        190.509651\n",
            "Name: 7, dtype: float64\n"
          ],
          "name": "stdout"
        },
        {
          "output_type": "execute_result",
          "data": {
            "text/plain": [
              "[0.00024166944690603244,\n",
              " 0.0002140792034199616,\n",
              " 0.0003603844196840158,\n",
              " 0.00028575244167518266,\n",
              " 0.0002559438545619591,\n",
              " 0.0002711206894925571,\n",
              " 0.0002700932017188018]"
            ]
          },
          "metadata": {
            "tags": []
          },
          "execution_count": 253
        }
      ]
    },
    {
      "cell_type": "code",
      "metadata": {
        "colab": {
          "base_uri": "https://localhost:8080/"
        },
        "id": "JRcdpHMq0Kzj",
        "outputId": "87dc7166-0dd2-44dd-e932-552bf7e98782"
      },
      "source": [
        "print((3.76-3.7)/3.76)"
      ],
      "execution_count": 254,
      "outputs": [
        {
          "output_type": "stream",
          "text": [
            "0.015957446808510536\n"
          ],
          "name": "stdout"
        }
      ]
    },
    {
      "cell_type": "code",
      "metadata": {
        "id": "IqDVlPG-xdh9"
      },
      "source": [
        "# 09.03.2021 - start date for 14 days\r\n",
        "HP = np.array([-0.0015918186366791235,\r\n",
        " -0.001542175884664001,\r\n",
        " -0.0012045795382608219,\r\n",
        " -0.0016956775850267127,\r\n",
        " -0.001799422467103809,\r\n",
        " -0.001386921438516002,\r\n",
        " -0.0015146376506500604,\r\n",
        " -0.0015360135806728396,\r\n",
        " -0.0015787160559057089,\r\n",
        " -0.0014349829332777552,\r\n",
        " -0.0015952490281427002,\r\n",
        " -0.0014355282832429037,\r\n",
        " -0.0014253590754024742,\r\n",
        " -0.0015705170132550748])\r\n",
        "INTEL = np.array([3.2218458972584184e-05,\r\n",
        " 0.00032490314525626326,\r\n",
        " 0.0001699974065265205,\r\n",
        " 0.00035777962741824704,\r\n",
        " 5.913893456422587e-05,\r\n",
        " 0.0002520177485536957,\r\n",
        " 0.00026692117567712886,\r\n",
        " 8.559087588157143e-05,\r\n",
        " 0.00012013720416217853,\r\n",
        " 9.468441563934764e-05,\r\n",
        " 0.0002132729242048172,\r\n",
        " 0.00022649016762661006,\r\n",
        " 0.00017787499327431857,\r\n",
        " 8.223778433830721e-05])\r\n",
        "MSFT = np.array([0.000876012617843982,\r\n",
        " 0.0008524414454125452,\r\n",
        " 0.0008877153845684739,\r\n",
        " 0.0009132390040515209,\r\n",
        " 0.0008461543404539776,\r\n",
        " 0.0008668736071337465,\r\n",
        " 0.0008644886541462769,\r\n",
        " 0.0009475335937235795,\r\n",
        " 0.000837526944653227,\r\n",
        " 0.0009501925560503137,\r\n",
        " 0.0010750130008723012,\r\n",
        " 0.0011088257749148945,\r\n",
        " 0.0009199996124354492,\r\n",
        " 0.001013462866825368])\r\n",
        "MU= np.array([0.0008904315553588423,\r\n",
        " 0.0008972804706349588,\r\n",
        " 0.0006579192307353658,\r\n",
        " 0.0007396368145122843,\r\n",
        " 0.0005151670783409462,\r\n",
        " 0.0008390825904853166,\r\n",
        " 0.0008060547387297764,\r\n",
        " 0.0006726226849097327,\r\n",
        " 0.0008876565201652311,\r\n",
        " 0.0007831717442038978,\r\n",
        " 0.000769686629811869,\r\n",
        " 0.0006675508443725151,\r\n",
        " 0.0008024644247325548,\r\n",
        " 0.0009070846113721745])\r\n",
        "DIS = np.array([0.0002839311185956654,\r\n",
        " 0.0002456147195954908,\r\n",
        " 0.0003793268977972077,\r\n",
        " 0.0003640901032881842,\r\n",
        " 0.00023511272577349224,\r\n",
        " 0.0002774582297296738,\r\n",
        " 0.00032554029862582744,\r\n",
        " 0.00034373735890376976,\r\n",
        " 0.0003989964305653657,\r\n",
        " 0.00045906291602963235,\r\n",
        " 0.0002806717339210822,\r\n",
        " 0.00033781527565265656,\r\n",
        " 0.000392718068127378,\r\n",
        " 0.00024185894470583132])\r\n",
        "BKNG = np.array([9.078398902819402e-05,\r\n",
        " 0.00012501386395081417,\r\n",
        " -4.840065967506245e-05,\r\n",
        " 0.0002295273843499752,\r\n",
        " -0.00020539487786829115,\r\n",
        " 0.00014202582903033307,\r\n",
        " -2.675616586776901e-05,\r\n",
        " 0.0001876267030764253,\r\n",
        " -0.00019411887814806125,\r\n",
        " 0.00018572465557326794,\r\n",
        " -6.803012069080204e-05,\r\n",
        " 4.7986172157075905e-05,\r\n",
        " 7.68346460754317e-05,\r\n",
        " 7.985251321637866e-05])\r\n",
        "EZJL = np.array([-0.0012752338454331109,\r\n",
        " -0.0013142056212457611,\r\n",
        " -0.0012672999100318896,\r\n",
        " -0.001271259092824653,\r\n",
        " -0.0011829181689499795,\r\n",
        " -0.0012947124647216953,\r\n",
        " -0.0015171532805706585,\r\n",
        " -0.0015121632016843018,\r\n",
        " -0.0011773225144154163,\r\n",
        " -0.0010552151321184763,\r\n",
        " -0.0013621512785932759,\r\n",
        " -0.0013842479015410767,\r\n",
        " -0.0013218992699748629,\r\n",
        " -0.0011894558888531231])\r\n",
        "ATVI = np.array([0.000446017762035828,\r\n",
        " 0.00027043882525717175,\r\n",
        " 0.00025113074852954777,\r\n",
        " 0.0003624867578507296,\r\n",
        " 0.0004384677239879856,\r\n",
        " 0.00044313690707672065,\r\n",
        " 0.00018104179387413616,\r\n",
        " 0.00042581815660377087,\r\n",
        " 0.0004777441598373131,\r\n",
        " 0.0005733892528817207,\r\n",
        " 0.00036413999032116386,\r\n",
        " 0.0004601379073443691,\r\n",
        " 0.00043626303341865835,\r\n",
        " 0.00027992230325902374])\r\n",
        "NFLX = np.array([0.0006212447481416272,\r\n",
        " 0.0006926743880902744,\r\n",
        " 0.0006564008381180775,\r\n",
        " 0.0005057560297975465,\r\n",
        " 0.0006085094292111499,\r\n",
        " 0.0007990128276194018,\r\n",
        " 0.00044522723621083195,\r\n",
        " 0.0008066577829628644,\r\n",
        " 0.0006881989629537331,\r\n",
        " 0.0005726132377490134,\r\n",
        " 0.0002750417177511001,\r\n",
        " 0.0006227578378720859,\r\n",
        " 0.0006376686695549852,\r\n",
        " 0.000584425833396686])\r\n",
        "SBUX = np.array([0.0002030403673100146,\r\n",
        " 0.00043319000970893517,\r\n",
        " 0.00020822158200401358,\r\n",
        " 0.0004319753549233572,\r\n",
        " 0.0002767673549106265,\r\n",
        " 0.0002916785832441253,\r\n",
        " 0.000316722793526399,\r\n",
        " 0.0004247281818707711,\r\n",
        " 0.00026398177997208057,\r\n",
        " 9.679655193596233e-05,\r\n",
        " 0.00015571477026953524,\r\n",
        " 0.00019762503156366273,\r\n",
        " 0.00019568586650731202,\r\n",
        " 0.0002612497972021408])\r\n",
        "DPZ = np.array([0.0003834477543521899,\r\n",
        " 0.0003365110103109941,\r\n",
        " 0.0003918187084059291,\r\n",
        " 0.0003381007302366189,\r\n",
        " 0.0005432427394323438,\r\n",
        " 0.00021973386593701928,\r\n",
        " 0.00047278808050986844,\r\n",
        " 0.0005128509305548856,\r\n",
        " 0.000313332781187571,\r\n",
        " 0.00039252197493247655,\r\n",
        " 0.0003459486206370826,\r\n",
        " 0.0004222662775827402,\r\n",
        " 0.0005669937004788104,\r\n",
        " 0.0004435032340679585])\r\n",
        "BKR = np.array([-0.000902390016907206,\r\n",
        " -0.0006388239123175722,\r\n",
        " -0.0006999449762915662,\r\n",
        " -0.0010264215344680523,\r\n",
        " -0.0007491226906002172,\r\n",
        " -0.0007732171700086876,\r\n",
        " -0.0007688865226790368,\r\n",
        " -0.0008441947987995256,\r\n",
        " -0.0006524851903750597,\r\n",
        " -0.0008895283402547054,\r\n",
        " -0.0008231488715794459,\r\n",
        " -0.0006048914123958035,\r\n",
        " -0.0007459855099915284,\r\n",
        " -0.0008512633652330701])\r\n",
        "CVX = np.array([1.653744034630043e-05,\r\n",
        " -0.00012363390066613312,\r\n",
        " -0.00013453449102838677,\r\n",
        " -0.00011500074033962889,\r\n",
        " -0.00013846093004830378,\r\n",
        " -0.00017868779113642218,\r\n",
        " -2.9571999685182493e-05,\r\n",
        " 0.0001822583758561718,\r\n",
        " -0.00011886091949833321,\r\n",
        " -9.668125627220618e-05,\r\n",
        " -0.0002451790524323286,\r\n",
        " 8.692050264165012e-06,\r\n",
        " -7.904061092303879e-05,\r\n",
        " -0.00018196793911004835])\r\n",
        "NKE = np.array([0.00031897678531800144,\r\n",
        " 0.0004444921790724262,\r\n",
        " 0.0005352374360457456,\r\n",
        " 0.0006165158146924452,\r\n",
        " 0.00024608039599797034,\r\n",
        " 0.00039656027759710276,\r\n",
        " 0.00043362148587023014,\r\n",
        " 0.0005607567248810326,\r\n",
        " 0.0003356440830219561,\r\n",
        " 0.00046199509517374105,\r\n",
        " 0.0003619689331912073,\r\n",
        " 0.0005664382525802425,\r\n",
        " 0.000345575109155605,\r\n",
        " 0.00037303569707993845])\r\n",
        "MRNA = np.array([0.0008847788814444732,\r\n",
        " 0.0007763961987234238,\r\n",
        " 0.0006444773925239315,\r\n",
        " 0.0007298057317203601,\r\n",
        " 0.0001341701755079312,\r\n",
        " 0.0006002634483594665,\r\n",
        " 0.0010634248422704818,\r\n",
        " 0.0005201881263951102,\r\n",
        " 0.000987125026588344,\r\n",
        " 0.0005439933761974012,\r\n",
        " 0.0007900985145098707,\r\n",
        " 0.000699301839188171,\r\n",
        " 9.033441750079309e-05,\r\n",
        " 0.00041558154455604695])"
      ],
      "execution_count": 255,
      "outputs": []
    },
    {
      "cell_type": "markdown",
      "metadata": {
        "id": "byuzjG_WQPG1"
      },
      "source": [
        "# **DAILY RETURNS(1 week)**"
      ]
    },
    {
      "cell_type": "code",
      "metadata": {
        "id": "bwJAEpxsQyWF"
      },
      "source": [
        "MRNA = np.array([0.000820240469511062,\r\n",
        " 0.0008941816927839288,\r\n",
        " 0.0008183696340969068,\r\n",
        " 0.0010473697891217463,\r\n",
        " 0.0009132578796100074,\r\n",
        " 0.0006573270985408959,\r\n",
        " 0.0006236253924135407,\r\n",
        " 0.00062241432])\r\n",
        "NKE = np.array([0.0004940891207011449,\r\n",
        " 0.0004157819208881886,\r\n",
        " 0.00039774171909256155,\r\n",
        " 0.00028648527968452403,\r\n",
        " 0.0003238775542226169,\r\n",
        " 0.0004592177591324314,\r\n",
        " 0.000449162555002789,\r\n",
        " 0.000444234214])\r\n",
        "CVX = np.array([-0.00024978681341981853,\r\n",
        " -0.000208737686695237,\r\n",
        " -0.00011371910861461089,\r\n",
        " -5.305503966406831e-05,\r\n",
        " -0.00016191099162549428,\r\n",
        " -5.3056760964122845e-05,\r\n",
        " -0.00027580657395895536,\r\n",
        " -0.00027235235536])\r\n",
        "BKR = np.array([-0.0009391150728270947,\r\n",
        " -0.0008015511774430908,\r\n",
        " -0.0006238367527182256,\r\n",
        " -0.0007832761084365451,\r\n",
        " -0.0008625020967926156,\r\n",
        " -0.0006837786639945683,\r\n",
        " -0.0008671614607888264,\r\n",
        "-0.00086716123424388264])\r\n",
        "DPZ = np.array([0.00045346246043134015,\r\n",
        " 0.0003811903071624685,\r\n",
        " 0.00037422273655259887,\r\n",
        " 0.0004584552248762259,\r\n",
        " 0.00042010282888828087,\r\n",
        " 0.0004860690215285052,\r\n",
        " 0.0006369597821544149,\r\n",
        " 0.00063695335353149])\r\n",
        "SBUX = np.array([0.0002400834995413794,\r\n",
        " 0.0003542966775821237,\r\n",
        " 0.0003084011949507116,\r\n",
        " 0.000290067768256251,\r\n",
        " 0.0002890296617170806,\r\n",
        " 0.00015822364876779218,\r\n",
        " 0.00032455699687926445,\r\n",
        "  0.0003245353242345])\r\n",
        "NFLX = np.array([0.0005055660248378591,\r\n",
        " 0.0006636188395165999,\r\n",
        " 0.0005678385397921967,\r\n",
        " 0.0007616563707752786,\r\n",
        " 0.0005684444907616339,\r\n",
        " 0.0007555097798542386,\r\n",
        " 0.0007089860167032532,\r\n",
        "  0.00070898635242532])\r\n",
        "ATVI = np.array([0.000367129926648059,\r\n",
        " 0.0003798552363569873,\r\n",
        " 0.00048199139455722465,\r\n",
        " 0.0004236635048545095,\r\n",
        " 0.00040951542151836356,\r\n",
        " 0.00040687248555718204,\r\n",
        " 0.00025369800372359794,\r\n",
        " 0.0002533535144])\r\n",
        "EZJL = np.array([-0.0013623641189683675,\r\n",
        " -0.0013988393096812123,\r\n",
        " -0.0011315272978327533,\r\n",
        " -0.001368809544494363,\r\n",
        " -0.0012087570538726676,\r\n",
        " -0.0012024473388855957,\r\n",
        " -0.0013381845648130115,\r\n",
        " -0.001338135352420115])\r\n",
        "BKNG = np.array([9.934005506664049e-05,\r\n",
        " 4.450987643962884e-05,\r\n",
        " 5.811319437454776e-05,\r\n",
        " 0.00015813850369012964,\r\n",
        " 3.7017779941351516e-06,\r\n",
        " 5.037270833860962e-05,\r\n",
        " -1.7731144480741346e-05,\r\n",
        "  -1.771313241346e-05])\r\n",
        "DIS = np.array([0.0002661070019970931,\r\n",
        " 0.00024011803356561106,\r\n",
        " 0.0003076997100543523,\r\n",
        " 0.00015462763793767904,\r\n",
        " 0.00035846531535664106,\r\n",
        " 0.00028486948743805806,\r\n",
        " 0.00032220590974338305,\r\n",
        "  0.0003222242452830])\r\n",
        "MU = np.array([0.0007029537938540622,\r\n",
        " 0.0010775314164776517,\r\n",
        " 0.0006880958819134797,\r\n",
        " 0.0007839256348996147,\r\n",
        " 0.0008101236393582734,\r\n",
        " 0.0008495438498101086,\r\n",
        " 0.0008801604019946373,\r\n",
        " 0.0008802425266373])\r\n",
        "MSFT = np.array([0.0008029663590404657,\r\n",
        " 0.0010088608869694299,\r\n",
        " 0.0010179147966026228,\r\n",
        " 0.0009722371302467224,\r\n",
        " 0.0009388497552475579,\r\n",
        " 0.0009356641536810146,\r\n",
        " 0.0008429785079554609,\r\n",
        "  0.0008436536659554609])\r\n",
        "INTEL = np.array([0.00020626572474701928,\r\n",
        " -0.00013877976662818675,\r\n",
        " 0.0002845482483448752,\r\n",
        " 9.36765401848427e-05,\r\n",
        " 0.0002178290801214372,\r\n",
        " 0.000251331769830429,\r\n",
        " 0.0001622401443756094,\r\n",
        " 0.0001622425556094])\r\n",
        "HP = np.array([-0.001533715666187592,\r\n",
        " -0.001513338141319869,\r\n",
        " -0.0016745687287203696,\r\n",
        " -0.0013452694540003424,\r\n",
        " -0.0016197916070169805,\r\n",
        " -0.001474848200548015,\r\n",
        " -0.0013192332160390026,\r\n",
        "  -0.00125253160390026])"
      ],
      "execution_count": 600,
      "outputs": []
    },
    {
      "cell_type": "markdown",
      "metadata": {
        "id": "vF7vdoece6of"
      },
      "source": [
        "# **Tobin's portfolio**"
      ]
    },
    {
      "cell_type": "code",
      "metadata": {
        "id": "t1rlMHG4fSE3"
      },
      "source": [
        "# tickers = ['MRNA', 'NKE', 'CVX','BKR','DPZ','SBUX','NFLX','ATVI','EZJ.L','BKNG','DIS','MU','MSFT','INTC','HP']\r\n",
        "# tickers = ['MRNA', 'NKE','DPZ','NFLX','EZJ.L','DIS','MU','MSFT']\r\n",
        "tickers = ['MRNA','DPZ','NFLX','EZJ.L','MU','MSFT','EBAY','BABA','OGI']\r\n",
        "end = dt.datetime.now()\r\n",
        "start = dt.datetime(end.year-3, end.month, end.day)\r\n",
        "data = pd.DataFrame(reader.get_data_yahoo(tickers, start, end)['Adj Close'])"
      ],
      "execution_count": 213,
      "outputs": []
    },
    {
      "cell_type": "code",
      "metadata": {
        "id": "hCCZY8iUkkyT"
      },
      "source": [
        "returns = data.pct_change()"
      ],
      "execution_count": 214,
      "outputs": []
    },
    {
      "cell_type": "code",
      "metadata": {
        "id": "4RZ1dNo5JiEz"
      },
      "source": [
        "returns = pd.DataFrame(([MRNA,NKE,CVX,BKR,DPZ,SBUX,NFLX,ATVI,EZJL,BKNG,DIS,MU,MSFT,INTEL,HP]))\r\n",
        "returns = returns.transpose().rename({0:'MRNA',1:'NKE',2:'CVX',3:'BKR',4:'DPZ',5:'SBUX', 6:'NFLX',7:'ATVI',8:'EZJL',9:'BKNG',10:'DIS', 11:'MU', 12:'MSFT',13:'INTEL', 14:'HP'},axis=1)"
      ],
      "execution_count": 684,
      "outputs": []
    },
    {
      "cell_type": "code",
      "metadata": {
        "colab": {
          "base_uri": "https://localhost:8080/",
          "height": 450
        },
        "id": "h41H6i_YsRBp",
        "outputId": "99759899-5d02-4633-b248-05c0db6018a6"
      },
      "source": [
        "returns = returns.dropna()\r\n",
        "returns"
      ],
      "execution_count": 215,
      "outputs": [
        {
          "output_type": "execute_result",
          "data": {
            "text/html": [
              "<div>\n",
              "<style scoped>\n",
              "    .dataframe tbody tr th:only-of-type {\n",
              "        vertical-align: middle;\n",
              "    }\n",
              "\n",
              "    .dataframe tbody tr th {\n",
              "        vertical-align: top;\n",
              "    }\n",
              "\n",
              "    .dataframe thead th {\n",
              "        text-align: right;\n",
              "    }\n",
              "</style>\n",
              "<table border=\"1\" class=\"dataframe\">\n",
              "  <thead>\n",
              "    <tr style=\"text-align: right;\">\n",
              "      <th>Symbols</th>\n",
              "      <th>MRNA</th>\n",
              "      <th>DPZ</th>\n",
              "      <th>NFLX</th>\n",
              "      <th>EZJ.L</th>\n",
              "      <th>MU</th>\n",
              "      <th>MSFT</th>\n",
              "      <th>EBAY</th>\n",
              "      <th>BABA</th>\n",
              "      <th>OGI</th>\n",
              "    </tr>\n",
              "    <tr>\n",
              "      <th>Date</th>\n",
              "      <th></th>\n",
              "      <th></th>\n",
              "      <th></th>\n",
              "      <th></th>\n",
              "      <th></th>\n",
              "      <th></th>\n",
              "      <th></th>\n",
              "      <th></th>\n",
              "      <th></th>\n",
              "    </tr>\n",
              "  </thead>\n",
              "  <tbody>\n",
              "    <tr>\n",
              "      <th>2019-05-22</th>\n",
              "      <td>-0.030837</td>\n",
              "      <td>-0.001895</td>\n",
              "      <td>0.015412</td>\n",
              "      <td>-0.058298</td>\n",
              "      <td>-0.025533</td>\n",
              "      <td>0.006068</td>\n",
              "      <td>-0.007381</td>\n",
              "      <td>-0.028147</td>\n",
              "      <td>-0.025608</td>\n",
              "    </tr>\n",
              "    <tr>\n",
              "      <th>2019-05-23</th>\n",
              "      <td>-0.028182</td>\n",
              "      <td>0.003094</td>\n",
              "      <td>-0.020905</td>\n",
              "      <td>-0.000216</td>\n",
              "      <td>-0.026202</td>\n",
              "      <td>-0.011671</td>\n",
              "      <td>-0.009915</td>\n",
              "      <td>-0.017818</td>\n",
              "      <td>-0.051248</td>\n",
              "    </tr>\n",
              "    <tr>\n",
              "      <th>2019-05-24</th>\n",
              "      <td>0.021048</td>\n",
              "      <td>-0.009463</td>\n",
              "      <td>0.006190</td>\n",
              "      <td>-0.008630</td>\n",
              "      <td>0.005322</td>\n",
              "      <td>0.000475</td>\n",
              "      <td>0.005007</td>\n",
              "      <td>-0.006410</td>\n",
              "      <td>0.037396</td>\n",
              "    </tr>\n",
              "    <tr>\n",
              "      <th>2019-05-28</th>\n",
              "      <td>-0.013284</td>\n",
              "      <td>-0.006652</td>\n",
              "      <td>0.001891</td>\n",
              "      <td>-0.010446</td>\n",
              "      <td>-0.031177</td>\n",
              "      <td>-0.000634</td>\n",
              "      <td>0.002491</td>\n",
              "      <td>-0.001226</td>\n",
              "      <td>0.048064</td>\n",
              "    </tr>\n",
              "    <tr>\n",
              "      <th>2019-05-29</th>\n",
              "      <td>0.007428</td>\n",
              "      <td>-0.010687</td>\n",
              "      <td>-0.016532</td>\n",
              "      <td>-0.023532</td>\n",
              "      <td>0.010625</td>\n",
              "      <td>-0.009670</td>\n",
              "      <td>-0.003313</td>\n",
              "      <td>-0.015051</td>\n",
              "      <td>-0.020382</td>\n",
              "    </tr>\n",
              "    <tr>\n",
              "      <th>...</th>\n",
              "      <td>...</td>\n",
              "      <td>...</td>\n",
              "      <td>...</td>\n",
              "      <td>...</td>\n",
              "      <td>...</td>\n",
              "      <td>...</td>\n",
              "      <td>...</td>\n",
              "      <td>...</td>\n",
              "      <td>...</td>\n",
              "    </tr>\n",
              "    <tr>\n",
              "      <th>2021-03-05</th>\n",
              "      <td>-0.000831</td>\n",
              "      <td>-0.000877</td>\n",
              "      <td>0.009975</td>\n",
              "      <td>-0.048464</td>\n",
              "      <td>0.054548</td>\n",
              "      <td>0.021479</td>\n",
              "      <td>0.007874</td>\n",
              "      <td>0.014707</td>\n",
              "      <td>-0.049645</td>\n",
              "    </tr>\n",
              "    <tr>\n",
              "      <th>2021-03-08</th>\n",
              "      <td>-0.065966</td>\n",
              "      <td>0.009902</td>\n",
              "      <td>-0.044656</td>\n",
              "      <td>0.037610</td>\n",
              "      <td>-0.043630</td>\n",
              "      <td>-0.018178</td>\n",
              "      <td>-0.005022</td>\n",
              "      <td>-0.030784</td>\n",
              "      <td>0.055970</td>\n",
              "    </tr>\n",
              "    <tr>\n",
              "      <th>2021-03-09</th>\n",
              "      <td>0.059934</td>\n",
              "      <td>0.061677</td>\n",
              "      <td>0.026575</td>\n",
              "      <td>-0.008395</td>\n",
              "      <td>0.049971</td>\n",
              "      <td>0.028101</td>\n",
              "      <td>0.050103</td>\n",
              "      <td>0.050509</td>\n",
              "      <td>0.091873</td>\n",
              "    </tr>\n",
              "    <tr>\n",
              "      <th>2021-03-10</th>\n",
              "      <td>-0.008558</td>\n",
              "      <td>0.010873</td>\n",
              "      <td>-0.003752</td>\n",
              "      <td>-0.011554</td>\n",
              "      <td>-0.043561</td>\n",
              "      <td>-0.005817</td>\n",
              "      <td>-0.014777</td>\n",
              "      <td>-0.016125</td>\n",
              "      <td>-0.064725</td>\n",
              "    </tr>\n",
              "    <tr>\n",
              "      <th>2021-03-11</th>\n",
              "      <td>0.067437</td>\n",
              "      <td>0.004275</td>\n",
              "      <td>0.021079</td>\n",
              "      <td>0.039903</td>\n",
              "      <td>0.050580</td>\n",
              "      <td>0.028096</td>\n",
              "      <td>0.020781</td>\n",
              "      <td>0.028190</td>\n",
              "      <td>0.252630</td>\n",
              "    </tr>\n",
              "  </tbody>\n",
              "</table>\n",
              "<p>465 rows × 9 columns</p>\n",
              "</div>"
            ],
            "text/plain": [
              "Symbols         MRNA       DPZ      NFLX  ...      EBAY      BABA       OGI\n",
              "Date                                      ...                              \n",
              "2019-05-22 -0.030837 -0.001895  0.015412  ... -0.007381 -0.028147 -0.025608\n",
              "2019-05-23 -0.028182  0.003094 -0.020905  ... -0.009915 -0.017818 -0.051248\n",
              "2019-05-24  0.021048 -0.009463  0.006190  ...  0.005007 -0.006410  0.037396\n",
              "2019-05-28 -0.013284 -0.006652  0.001891  ...  0.002491 -0.001226  0.048064\n",
              "2019-05-29  0.007428 -0.010687 -0.016532  ... -0.003313 -0.015051 -0.020382\n",
              "...              ...       ...       ...  ...       ...       ...       ...\n",
              "2021-03-05 -0.000831 -0.000877  0.009975  ...  0.007874  0.014707 -0.049645\n",
              "2021-03-08 -0.065966  0.009902 -0.044656  ... -0.005022 -0.030784  0.055970\n",
              "2021-03-09  0.059934  0.061677  0.026575  ...  0.050103  0.050509  0.091873\n",
              "2021-03-10 -0.008558  0.010873 -0.003752  ... -0.014777 -0.016125 -0.064725\n",
              "2021-03-11  0.067437  0.004275  0.021079  ...  0.020781  0.028190  0.252630\n",
              "\n",
              "[465 rows x 9 columns]"
            ]
          },
          "metadata": {
            "tags": []
          },
          "execution_count": 215
        }
      ]
    },
    {
      "cell_type": "code",
      "metadata": {
        "id": "cOKQsgR0o7Ca"
      },
      "source": [
        "expected_ret_p = 0.01\r\n",
        "# expected_ret = [0.02405,0.0049,0.0ф018,0.00ф15,0.0057,0.00ф39,0.0089,0.005ф9,0.0016,0.00ф33,0.00409,0.0119,0.0085,0.00ф42,0.000ф22]\r\n",
        "# expected_ret = [0.02405,0.0049,0.0057,0.0089,0.0016,0.00409,0.0119,0.0085]\r\n",
        "expected_ret = [0.02405,0.0057,0.0089,0.0016,0.0119,0.0085,0.00537,0.00636,0.0101]\r\n",
        "# 0.003286\r\n",
        "# Матрица ковариаций и обратная ей\r\n",
        "V = np.matrix(returns.cov())\r\n",
        "V_inv = np.linalg.inv(V)\r\n",
        "# безрисковая ставка\r\n",
        "M_f = 0.00038\r\n",
        "# sharpe = beta_sharpe(data).iloc[0][3]"
      ],
      "execution_count": 233,
      "outputs": []
    },
    {
      "cell_type": "code",
      "metadata": {
        "id": "FJijcNlMR_zs"
      },
      "source": [
        "# test = np.matrix('133.3 -33.3;-33.3 33.3')\r\n",
        "vector = np.array(expected_ret)\r\n",
        "# Единичная матрица\r\n",
        "I = np.ones((len(vector),1))\r\n",
        "second = np.reshape(vector,(len(vector),1)) - M_f*I\r\n",
        "first =  np.reshape((np.reshape(vector,(len(vector),1)) - M_f*I), (1,len(vector)))\r\n",
        "G = np.dot(np.dot(first,V_inv),second)\r\n",
        "# квадрат индекса Шарпа\r\n",
        "g = round(np.array(G)[0][0],3)"
      ],
      "execution_count": 234,
      "outputs": []
    },
    {
      "cell_type": "code",
      "metadata": {
        "colab": {
          "base_uri": "https://localhost:8080/"
        },
        "id": "HECAOqEq5gij",
        "outputId": "87f4d990-3f7b-4b24-f44f-25224e9f1877"
      },
      "source": [
        "g"
      ],
      "execution_count": 235,
      "outputs": [
        {
          "output_type": "execute_result",
          "data": {
            "text/plain": [
              "0.379"
            ]
          },
          "metadata": {
            "tags": []
          },
          "execution_count": 235
        }
      ]
    },
    {
      "cell_type": "code",
      "metadata": {
        "colab": {
          "base_uri": "https://localhost:8080/"
        },
        "id": "6U8DA-jXRXYc",
        "outputId": "3d90a306-4a0c-41ab-edb4-b5eb1761a5f0"
      },
      "source": [
        "# Оптимальные доли\r\n",
        "V_opt = np.array(np.dot((((expected_ret_p-M_f)/g)*V_inv), second))\r\n",
        "V_opt_f = 1 - sum(V_opt)\r\n",
        "# for i in range(len(V_opt)):\r\n",
        "#     print(V_opt[i])\r\n",
        "for i in range(len(V_opt)):\r\n",
        "    for j in range(len(V_opt[i])):\r\n",
        "        print(f'{i+1}) доля актива {tickers[i]} составляет: ',V_opt[i][j], end=' ')\r\n",
        "    print()"
      ],
      "execution_count": 236,
      "outputs": [
        {
          "output_type": "stream",
          "text": [
            "1) доля актива MRNA составляет:  0.2103964195161349 \n",
            "2) доля актива DPZ составляет:  0.11123052164837288 \n",
            "3) доля актива NFLX составляет:  0.14875865277740175 \n",
            "4) доля актива EZJ.L составляет:  0.01292210426195461 \n",
            "5) доля актива MU составляет:  0.1662751501671159 \n",
            "6) доля актива MSFT составляет:  0.07746688422501183 \n",
            "7) доля актива EBAY составляет:  0.0007741181026255936 \n",
            "8) доля актива BABA составляет:  0.02479159803040943 \n",
            "9) доля актива OGI составляет:  0.007368833938247429 \n"
          ],
          "name": "stdout"
        }
      ]
    },
    {
      "cell_type": "code",
      "metadata": {
        "colab": {
          "base_uri": "https://localhost:8080/"
        },
        "id": "CnDu6e8pl4Pk",
        "outputId": "5be9ab82-1aed-48cb-dfeb-4b148ddb2c4f"
      },
      "source": [
        "print(f'Доля безрискового актива составляет: {V_opt_f[0]}')"
      ],
      "execution_count": 237,
      "outputs": [
        {
          "output_type": "stream",
          "text": [
            "Доля безрискового актива составляет: 0.24001571733272575\n"
          ],
          "name": "stdout"
        }
      ]
    },
    {
      "cell_type": "code",
      "metadata": {
        "id": "qVME4CCs--JH"
      },
      "source": [
        ""
      ],
      "execution_count": null,
      "outputs": []
    }
  ]
}